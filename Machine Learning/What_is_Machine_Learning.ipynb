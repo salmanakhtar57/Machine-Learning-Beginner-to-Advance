{
  "nbformat": 4,
  "nbformat_minor": 0,
  "metadata": {
    "colab": {
      "provenance": [],
      "authorship_tag": "ABX9TyPUf1z0/aMgzco4kS+uY5ds"
    },
    "kernelspec": {
      "name": "python3",
      "display_name": "Python 3"
    },
    "language_info": {
      "name": "python"
    }
  },
  "cells": [
    {
      "cell_type": "markdown",
      "source": [
        "#Macine Learning"
      ],
      "metadata": {
        "id": "qteXl9VPjbQM"
      }
    },
    {
      "cell_type": "markdown",
      "source": [
        "###\"Machine Learning is a set of techniques to make computers better at doing things that human can do better then machines.\"\n",
        "\n",
        "We will not only use machines for their intelligence, we will also collaborate with them in ways that we cannot even imagine - Fei Fei Li"
      ],
      "metadata": {
        "id": "tTrnszXwjLc2"
      }
    },
    {
      "cell_type": "markdown",
      "source": [
        "Machine Learning is basically a sub-field of Artificial Intellegence which is a sub-field of Computer Sceince. Machine Learning can perform tasks that human beings are not capable of and it can make predictions and solve so many problems in the world.\n",
        "\n",
        "###Real Life Examples\n",
        "1. Span Filters\n",
        "2. ALexa or Siri\n",
        "3. Social Media Recomandation\n",
        "4. Driverless Cars\n",
        "5. Face Recognition"
      ],
      "metadata": {
        "id": "yI7mp6Qujejc"
      }
    },
    {
      "cell_type": "markdown",
      "source": [
        "##Types of Machine Learning\n",
        "####1. Supervised Learning\n",
        "   - Classificatoin\n",
        "   - Regression\n",
        "   - More:\n",
        "     - Labelled Data - Email spam or not spam\n",
        "     - Direct Feedback - We use the result or information to improve algorithms to make better classification.\n",
        "     - Predict Outcome Future - We predict the outcome which is the label itself.\n",
        "\n",
        "####2. Unsupervised Learning\n",
        "   - Don’t have labelled data\n",
        "   - No feedback\n",
        "   - Find hidden structures in data\n",
        "   - Examples:\n",
        "     - Clustering - Dateset that is not labelled and you want to group it into\n",
        "       different types of categories.\n",
        "     - Dimensionality Reduction - Swiss Roll dataset(three features could be reduced to two features)\n",
        "     \n",
        "####3. Reinforcement Learning\n",
        "   - Chess\n",
        "   - Learn from the series of actions"
      ],
      "metadata": {
        "id": "dMmlaWi_pEU5"
      }
    }
  ]
}