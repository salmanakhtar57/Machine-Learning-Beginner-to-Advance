{
  "nbformat": 4,
  "nbformat_minor": 0,
  "metadata": {
    "colab": {
      "provenance": [],
      "authorship_tag": "ABX9TyMzR0UIaDFR9VQLVQR4BQjd"
    },
    "kernelspec": {
      "name": "python3",
      "display_name": "Python 3"
    },
    "language_info": {
      "name": "python"
    }
  },
  "cells": [
    {
      "cell_type": "markdown",
      "source": [
        "#Cross Validation\n",
        "###Evualuating Model Performance\n",
        "\n",
        "#####Cross Validation is a technique that allows us to choose which model is the best for the current scenerio.\n",
        "- It allows us to evaluate a model performance"
      ],
      "metadata": {
        "id": "WHGeiWnKg0SP"
      }
    },
    {
      "cell_type": "markdown",
      "source": [
        "###Ways to train your model:\n",
        "1. Use all available data for training and test on same data.\n",
        "2. Split dataset into training and test sets\n",
        "3. K fold Cross Validation"
      ],
      "metadata": {
        "id": "AovamdebhvQJ"
      }
    },
    {
      "cell_type": "code",
      "source": [
        "from sklearn.linear_model import LogisticRegression\n",
        "from sklearn.svm import SVC\n",
        "from sklearn.ensemble import RandomForestClassifier\n",
        "from sklearn.tree import DecisionTreeClassifier\n",
        "from sklearn.model_selection import train_test_split\n",
        "import numpy as np\n",
        "from sklearn.datasets import load_iris"
      ],
      "metadata": {
        "id": "TpwYQ101i4cZ"
      },
      "execution_count": null,
      "outputs": []
    },
    {
      "cell_type": "code",
      "source": [
        "iris = load_iris()\n",
        "dir(iris)"
      ],
      "metadata": {
        "colab": {
          "base_uri": "https://localhost:8080/"
        },
        "id": "5C7mq05yPVH3",
        "outputId": "b59c099b-4b91-4adf-cbdd-e9a472bf8fbf"
      },
      "execution_count": null,
      "outputs": [
        {
          "output_type": "execute_result",
          "data": {
            "text/plain": [
              "['DESCR',\n",
              " 'data',\n",
              " 'data_module',\n",
              " 'feature_names',\n",
              " 'filename',\n",
              " 'frame',\n",
              " 'target',\n",
              " 'target_names']"
            ]
          },
          "metadata": {},
          "execution_count": 124
        }
      ]
    },
    {
      "cell_type": "code",
      "source": [
        "X_train, X_test, y_train, y_test = train_test_split(iris.data, iris.target, test_size=0.3)"
      ],
      "metadata": {
        "id": "oieVddnnkkF1"
      },
      "execution_count": null,
      "outputs": []
    },
    {
      "cell_type": "markdown",
      "source": [
        "Here I am using three ML Models to check the accuracy. However, everytime we run the model it will give different score based on the train and test value becaue it is not uniform but changing constanly everytime we run it."
      ],
      "metadata": {
        "id": "AOwATdazFjOC"
      }
    },
    {
      "cell_type": "markdown",
      "source": [
        "####Logistic Regression"
      ],
      "metadata": {
        "id": "jDSN0hv7F0Uu"
      }
    },
    {
      "cell_type": "code",
      "execution_count": null,
      "metadata": {
        "id": "7DlJJ64ggx7w",
        "colab": {
          "base_uri": "https://localhost:8080/"
        },
        "outputId": "270eedb0-9943-4aec-f883-118ba29e7f21"
      },
      "outputs": [
        {
          "output_type": "stream",
          "name": "stderr",
          "text": [
            "/usr/local/lib/python3.10/dist-packages/sklearn/linear_model/_logistic.py:458: ConvergenceWarning: lbfgs failed to converge (status=1):\n",
            "STOP: TOTAL NO. of ITERATIONS REACHED LIMIT.\n",
            "\n",
            "Increase the number of iterations (max_iter) or scale the data as shown in:\n",
            "    https://scikit-learn.org/stable/modules/preprocessing.html\n",
            "Please also refer to the documentation for alternative solver options:\n",
            "    https://scikit-learn.org/stable/modules/linear_model.html#logistic-regression\n",
            "  n_iter_i = _check_optimize_result(\n"
          ]
        },
        {
          "output_type": "execute_result",
          "data": {
            "text/plain": [
              "0.9428571428571428"
            ]
          },
          "metadata": {},
          "execution_count": 126
        }
      ],
      "source": [
        "model_lr = LogisticRegression()\n",
        "model_lr.fit(X_train, y_train)\n",
        "model_lr.score(X_train, y_train)"
      ]
    },
    {
      "cell_type": "markdown",
      "source": [
        "####Support Vector Machine"
      ],
      "metadata": {
        "id": "VvUL7hbLF3k5"
      }
    },
    {
      "cell_type": "code",
      "source": [
        "model_svm = SVC()\n",
        "model_svm.fit(X_train, y_train)\n",
        "model_svm.score(X_train, y_train)"
      ],
      "metadata": {
        "colab": {
          "base_uri": "https://localhost:8080/"
        },
        "id": "pQEyWf6eEXah",
        "outputId": "86db81f5-e26e-4d2e-e595-b7034f384da4"
      },
      "execution_count": null,
      "outputs": [
        {
          "output_type": "execute_result",
          "data": {
            "text/plain": [
              "0.9619047619047619"
            ]
          },
          "metadata": {},
          "execution_count": 127
        }
      ]
    },
    {
      "cell_type": "markdown",
      "source": [
        "####Random Forest"
      ],
      "metadata": {
        "id": "G2TxT6L-F7mv"
      }
    },
    {
      "cell_type": "code",
      "source": [
        "model_rf = RandomForestClassifier()\n",
        "model_rf.fit(X_train, y_train)\n",
        "model_rf.score(X_train, y_train)"
      ],
      "metadata": {
        "colab": {
          "base_uri": "https://localhost:8080/"
        },
        "id": "w0OM_A3ZEyDf",
        "outputId": "3ab3b946-ece9-451d-bb8f-ea3b57126e2e"
      },
      "execution_count": null,
      "outputs": [
        {
          "output_type": "execute_result",
          "data": {
            "text/plain": [
              "1.0"
            ]
          },
          "metadata": {},
          "execution_count": 128
        }
      ]
    },
    {
      "cell_type": "markdown",
      "source": [
        "###Dicision Tree"
      ],
      "metadata": {
        "id": "vUiujtIBOtTc"
      }
    },
    {
      "cell_type": "code",
      "source": [
        "model_dt = DecisionTreeClassifier()\n",
        "model_dt.fit(X_train, y_train)\n",
        "model_dt.score(X_train, y_train)"
      ],
      "metadata": {
        "colab": {
          "base_uri": "https://localhost:8080/"
        },
        "id": "y5C4VAnAOwR5",
        "outputId": "bdcd0293-d7c6-4547-af99-ec247da645d1"
      },
      "execution_count": null,
      "outputs": [
        {
          "output_type": "execute_result",
          "data": {
            "text/plain": [
              "1.0"
            ]
          },
          "metadata": {},
          "execution_count": 129
        }
      ]
    },
    {
      "cell_type": "markdown",
      "source": [
        "##Use K Fold\n",
        "\n",
        "The data used in this example is a dummy data. We will use original Data in the next example."
      ],
      "metadata": {
        "id": "3ReRigguGJGi"
      }
    },
    {
      "cell_type": "code",
      "source": [
        "from sklearn.model_selection import KFold\n",
        "kf = KFold(n_splits=3)\n",
        "kf"
      ],
      "metadata": {
        "colab": {
          "base_uri": "https://localhost:8080/"
        },
        "id": "fddxdk0_GZpe",
        "outputId": "51b12557-aaa2-4b3b-c11a-6b8aae55b9c6"
      },
      "execution_count": null,
      "outputs": [
        {
          "output_type": "execute_result",
          "data": {
            "text/plain": [
              "KFold(n_splits=3, random_state=None, shuffle=False)"
            ]
          },
          "metadata": {},
          "execution_count": 130
        }
      ]
    },
    {
      "cell_type": "code",
      "source": [
        "for train_index, test_index in kf.split([1, 2, 3, 4, 5, 6, 7, 8, 9]):\n",
        "  print(train_index, test_index)"
      ],
      "metadata": {
        "colab": {
          "base_uri": "https://localhost:8080/"
        },
        "id": "fcWt1G1gHC2Y",
        "outputId": "7f9fd2e7-f45f-4bdd-b9ee-025f2b845aac"
      },
      "execution_count": null,
      "outputs": [
        {
          "output_type": "stream",
          "name": "stdout",
          "text": [
            "[3 4 5 6 7 8] [0 1 2]\n",
            "[0 1 2 6 7 8] [3 4 5]\n",
            "[0 1 2 3 4 5] [6 7 8]\n"
          ]
        }
      ]
    },
    {
      "cell_type": "code",
      "source": [
        "def get_score(model, X_train, X_test, y_train, y_test):\n",
        "  model.fit(X_train, y_train)\n",
        "  return model.score(X_test, y_test)"
      ],
      "metadata": {
        "id": "voC3xljWH4FP"
      },
      "execution_count": null,
      "outputs": []
    },
    {
      "cell_type": "markdown",
      "source": [
        "####Stratified K Fold"
      ],
      "metadata": {
        "id": "TIcAqi2DJaCI"
      }
    },
    {
      "cell_type": "code",
      "source": [
        "from sklearn.model_selection import StratifiedKFold\n",
        "folds = StratifiedKFold(n_splits=3)"
      ],
      "metadata": {
        "id": "TSJm_NZ8JTxd"
      },
      "execution_count": null,
      "outputs": []
    },
    {
      "cell_type": "code",
      "source": [
        "scores_lr = []\n",
        "scores_svm = []\n",
        "scores_rf = []\n",
        "scores_dt = []\n",
        "\n",
        "for train_index, test_index in kf.split(iris.data):\n",
        "    X_train, X_test, y_train, y_test = iris.data[train_index], iris.data[test_index], iris.target[train_index], iris.target[test_index]\n",
        "\n",
        "    scores_lr.append(get_score(LogisticRegression(solver='liblinear',multi_class='ovr'), X_train, X_test, y_train, y_test))\n",
        "    scores_svm.append(get_score(SVC(gamma='auto'), X_train, X_test, y_train, y_test))\n",
        "    scores_rf.append(get_score(RandomForestClassifier(n_estimators=40), X_train, X_test, y_train, y_test))\n",
        "    scores_dt.append(get_score(DecisionTreeClassifier(), X_train, X_test, y_train, y_test))"
      ],
      "metadata": {
        "id": "iT3vp0h5KwOu"
      },
      "execution_count": null,
      "outputs": []
    },
    {
      "cell_type": "code",
      "source": [
        "scores_lr"
      ],
      "metadata": {
        "colab": {
          "base_uri": "https://localhost:8080/"
        },
        "id": "fcMtzmytL3eZ",
        "outputId": "f6a6d913-2bf8-46c5-985f-24372401f27b"
      },
      "execution_count": null,
      "outputs": [
        {
          "output_type": "execute_result",
          "data": {
            "text/plain": [
              "[0.0, 0.0, 0.0]"
            ]
          },
          "metadata": {},
          "execution_count": 143
        }
      ]
    },
    {
      "cell_type": "code",
      "source": [
        "scores_svm"
      ],
      "metadata": {
        "colab": {
          "base_uri": "https://localhost:8080/"
        },
        "id": "EwrgoA4GMQpO",
        "outputId": "8996b278-ab46-433a-a7ec-44d3f0b41d2e"
      },
      "execution_count": null,
      "outputs": [
        {
          "output_type": "execute_result",
          "data": {
            "text/plain": [
              "[0.0, 0.0, 0.0]"
            ]
          },
          "metadata": {},
          "execution_count": 144
        }
      ]
    },
    {
      "cell_type": "code",
      "source": [
        "scores_rf"
      ],
      "metadata": {
        "colab": {
          "base_uri": "https://localhost:8080/"
        },
        "id": "0zC7UAZbPMp1",
        "outputId": "c69085aa-a249-415d-9fa0-83c9d233bbab"
      },
      "execution_count": null,
      "outputs": [
        {
          "output_type": "execute_result",
          "data": {
            "text/plain": [
              "[0.0, 0.0, 0.0]"
            ]
          },
          "metadata": {},
          "execution_count": 145
        }
      ]
    },
    {
      "cell_type": "code",
      "source": [
        "scores_dt"
      ],
      "metadata": {
        "colab": {
          "base_uri": "https://localhost:8080/"
        },
        "id": "rrmyo4-uPPPS",
        "outputId": "4477397a-aa97-4ef2-d095-274c62e29250"
      },
      "execution_count": null,
      "outputs": [
        {
          "output_type": "execute_result",
          "data": {
            "text/plain": [
              "[0.0, 0.0, 0.0]"
            ]
          },
          "metadata": {},
          "execution_count": 146
        }
      ]
    },
    {
      "cell_type": "markdown",
      "source": [
        "###Cross Val Score Method"
      ],
      "metadata": {
        "id": "MHIOFVDNQbF-"
      }
    },
    {
      "cell_type": "code",
      "source": [
        "from sklearn.model_selection import cross_val_score"
      ],
      "metadata": {
        "id": "BV28Nm_5PQ3r"
      },
      "execution_count": null,
      "outputs": []
    },
    {
      "cell_type": "code",
      "source": [
        "cross_val_score(LogisticRegression(), iris.data, iris.target)"
      ],
      "metadata": {
        "colab": {
          "base_uri": "https://localhost:8080/"
        },
        "id": "vUYsfEyeQmgB",
        "outputId": "6df23ac6-2ed0-4a7e-a9dd-76c6e5fda333"
      },
      "execution_count": null,
      "outputs": [
        {
          "output_type": "stream",
          "name": "stderr",
          "text": [
            "/usr/local/lib/python3.10/dist-packages/sklearn/linear_model/_logistic.py:458: ConvergenceWarning: lbfgs failed to converge (status=1):\n",
            "STOP: TOTAL NO. of ITERATIONS REACHED LIMIT.\n",
            "\n",
            "Increase the number of iterations (max_iter) or scale the data as shown in:\n",
            "    https://scikit-learn.org/stable/modules/preprocessing.html\n",
            "Please also refer to the documentation for alternative solver options:\n",
            "    https://scikit-learn.org/stable/modules/linear_model.html#logistic-regression\n",
            "  n_iter_i = _check_optimize_result(\n"
          ]
        },
        {
          "output_type": "execute_result",
          "data": {
            "text/plain": [
              "array([0.96666667, 1.        , 0.93333333, 0.96666667, 1.        ])"
            ]
          },
          "metadata": {},
          "execution_count": 148
        }
      ]
    },
    {
      "cell_type": "code",
      "source": [
        "cross_val_score(SVC(), iris.data, iris.target)"
      ],
      "metadata": {
        "colab": {
          "base_uri": "https://localhost:8080/"
        },
        "id": "c1YJYORFQ0Al",
        "outputId": "b1e3fb49-98dd-415a-8b6e-a6328a190911"
      },
      "execution_count": null,
      "outputs": [
        {
          "output_type": "execute_result",
          "data": {
            "text/plain": [
              "array([0.96666667, 0.96666667, 0.96666667, 0.93333333, 1.        ])"
            ]
          },
          "metadata": {},
          "execution_count": 149
        }
      ]
    },
    {
      "cell_type": "code",
      "source": [
        "cross_val_score(RandomForestClassifier(), iris.data, iris.target)"
      ],
      "metadata": {
        "colab": {
          "base_uri": "https://localhost:8080/"
        },
        "id": "b1ceQy68RNBF",
        "outputId": "9fb47d41-f3eb-4b18-8b43-ecc289dc363a"
      },
      "execution_count": null,
      "outputs": [
        {
          "output_type": "execute_result",
          "data": {
            "text/plain": [
              "array([0.96666667, 0.96666667, 0.93333333, 0.96666667, 1.        ])"
            ]
          },
          "metadata": {},
          "execution_count": 151
        }
      ]
    },
    {
      "cell_type": "code",
      "source": [
        "cross_val_score(DecisionTreeClassifier(), iris.data, iris.target)"
      ],
      "metadata": {
        "colab": {
          "base_uri": "https://localhost:8080/"
        },
        "id": "iFJ6UevaRQIc",
        "outputId": "2b3e235c-3fbf-40b7-ed82-fa7ffe963fea"
      },
      "execution_count": null,
      "outputs": [
        {
          "output_type": "execute_result",
          "data": {
            "text/plain": [
              "array([0.96666667, 0.96666667, 0.9       , 0.96666667, 1.        ])"
            ]
          },
          "metadata": {},
          "execution_count": 153
        }
      ]
    }
  ]
}