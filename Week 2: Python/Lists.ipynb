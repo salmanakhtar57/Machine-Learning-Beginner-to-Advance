{
  "nbformat": 4,
  "nbformat_minor": 0,
  "metadata": {
    "colab": {
      "provenance": [],
      "authorship_tag": "ABX9TyP1Vjk/n4svnLXN2uV0Ojks"
    },
    "kernelspec": {
      "name": "python3",
      "display_name": "Python 3"
    },
    "language_info": {
      "name": "python"
    }
  },
  "cells": [
    {
      "cell_type": "markdown",
      "source": [
        "# List\n",
        "A list is a type of data that is used to store a list of things."
      ],
      "metadata": {
        "id": "OuWA8t20NM5o"
      }
    },
    {
      "cell_type": "markdown",
      "source": [
        "####Creating a list"
      ],
      "metadata": {
        "id": "IszDVESRNo7u"
      }
    },
    {
      "cell_type": "code",
      "execution_count": 3,
      "metadata": {
        "colab": {
          "base_uri": "https://localhost:8080/"
        },
        "id": "_rZrfbciNFGo",
        "outputId": "3783f30e-eb5a-4783-a984-b118b6935fec"
      },
      "outputs": [
        {
          "output_type": "execute_result",
          "data": {
            "text/plain": [
              "[1, 2, 3]"
            ]
          },
          "metadata": {},
          "execution_count": 3
        }
      ],
      "source": [
        "a = [1, 2, 3]\n",
        "a"
      ]
    },
    {
      "cell_type": "markdown",
      "source": [
        "####Add items to the list"
      ],
      "metadata": {
        "id": "8UpRGxsTNzsB"
      }
    },
    {
      "cell_type": "code",
      "source": [
        "a.append(4)\n",
        "a"
      ],
      "metadata": {
        "colab": {
          "base_uri": "https://localhost:8080/"
        },
        "id": "g_v6lgaINc_L",
        "outputId": "20c81247-5efd-40ae-d8d0-787ff84c25a6"
      },
      "execution_count": 4,
      "outputs": [
        {
          "output_type": "execute_result",
          "data": {
            "text/plain": [
              "[1, 2, 3, 4]"
            ]
          },
          "metadata": {},
          "execution_count": 4
        }
      ]
    },
    {
      "cell_type": "code",
      "source": [
        "a.append(\"string\")\n",
        "a"
      ],
      "metadata": {
        "colab": {
          "base_uri": "https://localhost:8080/"
        },
        "id": "hOhht49tN8hV",
        "outputId": "8ce3f6fc-8d89-408d-995d-bee94faa846c"
      },
      "execution_count": 5,
      "outputs": [
        {
          "output_type": "execute_result",
          "data": {
            "text/plain": [
              "[1, 2, 3, 4, 'string']"
            ]
          },
          "metadata": {},
          "execution_count": 5
        }
      ]
    },
    {
      "cell_type": "markdown",
      "source": [
        "###Add a list of numbers in already created list"
      ],
      "metadata": {
        "id": "UpL_PnpkOSW9"
      }
    },
    {
      "cell_type": "code",
      "source": [
        "a.append([12, 13])\n",
        "a"
      ],
      "metadata": {
        "colab": {
          "base_uri": "https://localhost:8080/"
        },
        "id": "B5_rjPRJOawe",
        "outputId": "24ce7d44-866f-4b73-c514-50d1c9dabe00"
      },
      "execution_count": 20,
      "outputs": [
        {
          "output_type": "execute_result",
          "data": {
            "text/plain": [
              "[1, 2, 3, 4, 'string', [12, 13]]"
            ]
          },
          "metadata": {},
          "execution_count": 20
        }
      ]
    },
    {
      "cell_type": "code",
      "source": [],
      "metadata": {
        "colab": {
          "base_uri": "https://localhost:8080/"
        },
        "id": "g9dEM4RIOkjS",
        "outputId": "10a4f1da-b67d-47f0-a124-cce2bf5d2d35"
      },
      "execution_count": 16,
      "outputs": [
        {
          "output_type": "execute_result",
          "data": {
            "text/plain": [
              "[1, 2, 3, 4, 'string']"
            ]
          },
          "metadata": {},
          "execution_count": 16
        }
      ]
    },
    {
      "cell_type": "markdown",
      "source": [
        "Deleting Items from the list."
      ],
      "metadata": {
        "id": "-EActjyKPLTl"
      }
    },
    {
      "cell_type": "code",
      "source": [
        "new_list = [\"one\", \"two\", \"three\", \"four\"]\n",
        "new_list"
      ],
      "metadata": {
        "colab": {
          "base_uri": "https://localhost:8080/"
        },
        "id": "qL-vER3SOmfO",
        "outputId": "5fd774e3-4dc9-49ee-e528-5698a1b42ded"
      },
      "execution_count": 23,
      "outputs": [
        {
          "output_type": "execute_result",
          "data": {
            "text/plain": [
              "['one', 'two', 'three', 'four']"
            ]
          },
          "metadata": {},
          "execution_count": 23
        }
      ]
    },
    {
      "cell_type": "code",
      "source": [
        "new_list.pop()"
      ],
      "metadata": {
        "colab": {
          "base_uri": "https://localhost:8080/",
          "height": 36
        },
        "id": "szANKhmUPhsE",
        "outputId": "3130c850-7a82-4bf3-bc86-8b45b7381821"
      },
      "execution_count": 25,
      "outputs": [
        {
          "output_type": "execute_result",
          "data": {
            "text/plain": [
              "'four'"
            ],
            "application/vnd.google.colaboratory.intrinsic+json": {
              "type": "string"
            }
          },
          "metadata": {},
          "execution_count": 25
        }
      ]
    },
    {
      "cell_type": "code",
      "source": [
        "new_list"
      ],
      "metadata": {
        "colab": {
          "base_uri": "https://localhost:8080/"
        },
        "id": "cRIuMMXfPnZx",
        "outputId": "a34f8220-a317-4e3f-81af-1482be02c4b6"
      },
      "execution_count": 26,
      "outputs": [
        {
          "output_type": "execute_result",
          "data": {
            "text/plain": [
              "['one', 'two', 'three']"
            ]
          },
          "metadata": {},
          "execution_count": 26
        }
      ]
    },
    {
      "cell_type": "markdown",
      "source": [
        "Deleting specifict items from the list"
      ],
      "metadata": {
        "id": "RKNTHJZmQdsY"
      }
    },
    {
      "cell_type": "code",
      "source": [
        "fruits = [\"apple\", \"orange\", \"mango\", \"grapes\", \"banana\"]\n",
        "fruits"
      ],
      "metadata": {
        "colab": {
          "base_uri": "https://localhost:8080/"
        },
        "id": "93QB69cJPqu5",
        "outputId": "820d20f1-35c4-485a-8f55-0efa43cf13c1"
      },
      "execution_count": 29,
      "outputs": [
        {
          "output_type": "execute_result",
          "data": {
            "text/plain": [
              "['apple', 'orange', 'mango', 'grapes', 'banana']"
            ]
          },
          "metadata": {},
          "execution_count": 29
        }
      ]
    },
    {
      "cell_type": "code",
      "source": [
        "fruits.pop(3)"
      ],
      "metadata": {
        "colab": {
          "base_uri": "https://localhost:8080/",
          "height": 36
        },
        "id": "Jo5T5PEcQZKd",
        "outputId": "12b702fc-7931-4fde-e3ef-1bf07f2e983a"
      },
      "execution_count": 30,
      "outputs": [
        {
          "output_type": "execute_result",
          "data": {
            "text/plain": [
              "'grapes'"
            ],
            "application/vnd.google.colaboratory.intrinsic+json": {
              "type": "string"
            }
          },
          "metadata": {},
          "execution_count": 30
        }
      ]
    },
    {
      "cell_type": "markdown",
      "source": [
        "Now grapes has been removed from the list"
      ],
      "metadata": {
        "id": "B_kmWFDdQ41J"
      }
    },
    {
      "cell_type": "code",
      "source": [
        "fruits"
      ],
      "metadata": {
        "colab": {
          "base_uri": "https://localhost:8080/"
        },
        "id": "2xcbwZa4Qy0c",
        "outputId": "eac7d246-b5ed-47e5-a699-3b1291cc2870"
      },
      "execution_count": 32,
      "outputs": [
        {
          "output_type": "execute_result",
          "data": {
            "text/plain": [
              "['apple', 'orange', 'mango', 'banana']"
            ]
          },
          "metadata": {},
          "execution_count": 32
        }
      ]
    },
    {
      "cell_type": "code",
      "source": [
        "fruits.pop(1)"
      ],
      "metadata": {
        "colab": {
          "base_uri": "https://localhost:8080/",
          "height": 36
        },
        "id": "NmqMUiUxQ01B",
        "outputId": "e055af5f-b28b-4e9f-b223-fe99269004c4"
      },
      "execution_count": 33,
      "outputs": [
        {
          "output_type": "execute_result",
          "data": {
            "text/plain": [
              "'orange'"
            ],
            "application/vnd.google.colaboratory.intrinsic+json": {
              "type": "string"
            }
          },
          "metadata": {},
          "execution_count": 33
        }
      ]
    },
    {
      "cell_type": "code",
      "source": [
        "fruits"
      ],
      "metadata": {
        "colab": {
          "base_uri": "https://localhost:8080/"
        },
        "id": "1A7Q1m6ZQ_pL",
        "outputId": "b5492aee-9678-46cd-f25e-905f3bb7294a"
      },
      "execution_count": 34,
      "outputs": [
        {
          "output_type": "execute_result",
          "data": {
            "text/plain": [
              "['apple', 'mango', 'banana']"
            ]
          },
          "metadata": {},
          "execution_count": 34
        }
      ]
    },
    {
      "cell_type": "markdown",
      "source": [
        "Change the item in a list"
      ],
      "metadata": {
        "id": "ztUxLkZGRKrc"
      }
    },
    {
      "cell_type": "code",
      "source": [
        "fruits[0] = \"Apple\""
      ],
      "metadata": {
        "id": "GtMKI9SuRBPl"
      },
      "execution_count": 37,
      "outputs": []
    },
    {
      "cell_type": "code",
      "source": [
        "fruits"
      ],
      "metadata": {
        "colab": {
          "base_uri": "https://localhost:8080/"
        },
        "id": "Y5KTsNHdRV1w",
        "outputId": "2538081e-2d82-4f98-aea6-2dc2fde4c265"
      },
      "execution_count": 38,
      "outputs": [
        {
          "output_type": "execute_result",
          "data": {
            "text/plain": [
              "['Apple', 'mango', 'banana']"
            ]
          },
          "metadata": {},
          "execution_count": 38
        }
      ]
    },
    {
      "cell_type": "markdown",
      "source": [
        "In the above list the first variable changes to a new variable."
      ],
      "metadata": {
        "id": "iTqgq5GURZhe"
      }
    },
    {
      "cell_type": "markdown",
      "source": [
        "####Rearranging the items in the list."
      ],
      "metadata": {
        "id": "t1EyiuwXRwJF"
      }
    },
    {
      "cell_type": "code",
      "source": [
        "cars = [\"BMW\", \"Audi\", \"Honda\"]\n",
        "cars"
      ],
      "metadata": {
        "colab": {
          "base_uri": "https://localhost:8080/"
        },
        "id": "bSGBwsk-RWw1",
        "outputId": "d05031dd-1f6a-4d03-dd5f-423408206a69"
      },
      "execution_count": 39,
      "outputs": [
        {
          "output_type": "execute_result",
          "data": {
            "text/plain": [
              "['BMW', 'Audi', 'Honda']"
            ]
          },
          "metadata": {},
          "execution_count": 39
        }
      ]
    },
    {
      "cell_type": "code",
      "source": [
        "temp = cars[0]\n",
        "cars[0] = cars[2]\n",
        "cars[2] = temp"
      ],
      "metadata": {
        "id": "S3EDsALWSFaU"
      },
      "execution_count": 40,
      "outputs": []
    },
    {
      "cell_type": "code",
      "source": [
        "cars"
      ],
      "metadata": {
        "colab": {
          "base_uri": "https://localhost:8080/"
        },
        "id": "WvNIBKMPSgVU",
        "outputId": "6941ba40-8d61-4c9a-c316-01efe6e85cb9"
      },
      "execution_count": 41,
      "outputs": [
        {
          "output_type": "execute_result",
          "data": {
            "text/plain": [
              "['Honda', 'Audi', 'BMW']"
            ]
          },
          "metadata": {},
          "execution_count": 41
        }
      ]
    },
    {
      "cell_type": "markdown",
      "source": [
        "Now swap in only one line"
      ],
      "metadata": {
        "id": "eHGfWQvXSqYJ"
      }
    },
    {
      "cell_type": "code",
      "source": [
        "cars[0], cars[2] = cars[2], cars[0]"
      ],
      "metadata": {
        "id": "lgPK-r-LShDi"
      },
      "execution_count": 42,
      "outputs": []
    },
    {
      "cell_type": "code",
      "source": [
        "cars"
      ],
      "metadata": {
        "colab": {
          "base_uri": "https://localhost:8080/"
        },
        "id": "R4VhhxrASzER",
        "outputId": "b56bf15a-778c-4744-bfe3-45ed9ceb2498"
      },
      "execution_count": 43,
      "outputs": [
        {
          "output_type": "execute_result",
          "data": {
            "text/plain": [
              "['BMW', 'Audi', 'Honda']"
            ]
          },
          "metadata": {},
          "execution_count": 43
        }
      ]
    },
    {
      "cell_type": "markdown",
      "source": [
        "##Problem"
      ],
      "metadata": {
        "id": "utz_6qdKTmc3"
      }
    },
    {
      "cell_type": "markdown",
      "source": [
        "Given a list of numbers, write a function that takes in the list as a parameter and returns the average of all the numbers in the list."
      ],
      "metadata": {
        "id": "1UlTJTgDWMAZ"
      }
    },
    {
      "cell_type": "code",
      "source": [
        "def get_average(avg_list):\n",
        "  total = 0\n",
        "  count = 0\n",
        "  for num in avg_list:\n",
        "    total += num\n",
        "    count += 1\n",
        "\n",
        "  average = total / count\n",
        "  return average"
      ],
      "metadata": {
        "id": "dbEOjP9wTp1-"
      },
      "execution_count": 58,
      "outputs": []
    },
    {
      "cell_type": "code",
      "source": [
        "numbers = [4, 8, 12, 6]\n",
        "result = get_average(numbers)\n",
        "print(result)"
      ],
      "metadata": {
        "colab": {
          "base_uri": "https://localhost:8080/"
        },
        "id": "ouNpdkFXUrpj",
        "outputId": "20fc5dc6-f2e6-424a-9d2d-a00ad1f0fe3c"
      },
      "execution_count": 59,
      "outputs": [
        {
          "output_type": "stream",
          "name": "stdout",
          "text": [
            "7.5\n"
          ]
        }
      ]
    }
  ]
}