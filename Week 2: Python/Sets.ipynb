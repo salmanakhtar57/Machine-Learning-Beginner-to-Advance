{
  "nbformat": 4,
  "nbformat_minor": 0,
  "metadata": {
    "colab": {
      "provenance": [],
      "authorship_tag": "ABX9TyNKW8kWvWF3bRfSX4aERAHz"
    },
    "kernelspec": {
      "name": "python3",
      "display_name": "Python 3"
    },
    "language_info": {
      "name": "python"
    }
  },
  "cells": [
    {
      "cell_type": "markdown",
      "source": [
        "#Sets\n"
      ],
      "metadata": {
        "id": "KARXTYOQ0I5d"
      }
    },
    {
      "cell_type": "markdown",
      "source": [
        "A set is a type of data that stores a set of unique things."
      ],
      "metadata": {
        "id": "HVmgAIFn0NEm"
      }
    },
    {
      "cell_type": "code",
      "execution_count": 1,
      "metadata": {
        "colab": {
          "base_uri": "https://localhost:8080/"
        },
        "id": "2M-irQLbu7OA",
        "outputId": "89355278-4ebf-47ec-d048-65c15c6016f8"
      },
      "outputs": [
        {
          "output_type": "execute_result",
          "data": {
            "text/plain": [
              "set()"
            ]
          },
          "metadata": {},
          "execution_count": 1
        }
      ],
      "source": [
        "s = set()\n",
        "s"
      ]
    },
    {
      "cell_type": "code",
      "source": [
        "s.add(\"one\")\n",
        "s.add(\"two\")\n",
        "s.add(\"three\")"
      ],
      "metadata": {
        "id": "FVKfre5H0aup"
      },
      "execution_count": 4,
      "outputs": []
    },
    {
      "cell_type": "code",
      "source": [
        "s"
      ],
      "metadata": {
        "colab": {
          "base_uri": "https://localhost:8080/"
        },
        "id": "Ty_Lwc8y0kz8",
        "outputId": "50ecd66e-dee8-471f-ad75-59742e56e700"
      },
      "execution_count": 5,
      "outputs": [
        {
          "output_type": "execute_result",
          "data": {
            "text/plain": [
              "{'one', 'three', 'two'}"
            ]
          },
          "metadata": {},
          "execution_count": 5
        }
      ]
    },
    {
      "cell_type": "markdown",
      "source": [
        "####Iterating over sets"
      ],
      "metadata": {
        "id": "SH-I12sd0uAw"
      }
    },
    {
      "cell_type": "code",
      "source": [
        "for x in s:\n",
        "  print(x)"
      ],
      "metadata": {
        "colab": {
          "base_uri": "https://localhost:8080/"
        },
        "id": "2LOQV6y60piJ",
        "outputId": "b2bb9071-b8c1-41cd-b166-2b1ecd54a325"
      },
      "execution_count": 8,
      "outputs": [
        {
          "output_type": "stream",
          "name": "stdout",
          "text": [
            "one\n",
            "two\n",
            "three\n"
          ]
        }
      ]
    },
    {
      "cell_type": "markdown",
      "source": [
        "####Remove duplicates\n",
        "Sets automatically removes duplicates from it."
      ],
      "metadata": {
        "id": "7YOVcVk71JhX"
      }
    },
    {
      "cell_type": "code",
      "source": [
        "list1 = [1, 2, 2, 3, 3, 4, 5, 5]\n",
        "\n",
        "set1 = set()\n",
        "for x in list1:\n",
        "  set1.add(x)\n",
        "print(set1)"
      ],
      "metadata": {
        "colab": {
          "base_uri": "https://localhost:8080/"
        },
        "id": "Cjiqtsst07O4",
        "outputId": "9dea2845-676d-4b8f-8038-aa26adae4560"
      },
      "execution_count": 11,
      "outputs": [
        {
          "output_type": "stream",
          "name": "stdout",
          "text": [
            "{1, 2, 3, 4, 5}\n"
          ]
        }
      ]
    },
    {
      "cell_type": "markdown",
      "source": [
        "This is the opposite of above"
      ],
      "metadata": {
        "id": "amR52O_l2SZx"
      }
    },
    {
      "cell_type": "code",
      "source": [
        "list2 = []\n",
        "for x in set1:\n",
        "  list2.append(x)\n",
        "print(list2)"
      ],
      "metadata": {
        "colab": {
          "base_uri": "https://localhost:8080/"
        },
        "id": "F8vUNrX21gA8",
        "outputId": "3583838d-2730-4393-e737-149b9790743b"
      },
      "execution_count": 13,
      "outputs": [
        {
          "output_type": "stream",
          "name": "stdout",
          "text": [
            "[1, 2, 3, 4, 5]\n"
          ]
        }
      ]
    },
    {
      "cell_type": "markdown",
      "source": [
        "####Using strings"
      ],
      "metadata": {
        "id": "6FjQgNfx2eWh"
      }
    },
    {
      "cell_type": "markdown",
      "source": [
        "Sets doesn't take care of the order."
      ],
      "metadata": {
        "id": "Q2wIiRif25Lw"
      }
    },
    {
      "cell_type": "code",
      "source": [
        "cars = set()\n",
        "cars.add('BMW')\n",
        "cars.add('Honda')\n",
        "cars.add('Jeep')\n",
        "cars.add(2)\n",
        "cars"
      ],
      "metadata": {
        "colab": {
          "base_uri": "https://localhost:8080/"
        },
        "id": "yFeI-Xci2DXP",
        "outputId": "0a059e42-d4ee-4388-e014-b2533e80137d"
      },
      "execution_count": 19,
      "outputs": [
        {
          "output_type": "execute_result",
          "data": {
            "text/plain": [
              "{2, 'BMW', 'Honda', 'Jeep'}"
            ]
          },
          "metadata": {},
          "execution_count": 19
        }
      ]
    },
    {
      "cell_type": "markdown",
      "source": [
        "#Problem"
      ],
      "metadata": {
        "id": "TtDo7V8s3EpZ"
      }
    },
    {
      "cell_type": "markdown",
      "source": [
        "Find sum of unique elements from the list."
      ],
      "metadata": {
        "id": "i--uXoSz3IJW"
      }
    },
    {
      "cell_type": "code",
      "source": [
        "new_list = [1, 3, 4, 2, 1, 3]\n",
        "\n",
        "new_set = set()\n",
        "for x in new_list:\n",
        "  new_set.add(x)\n",
        "\n",
        "total = 0\n",
        "for x in new_set:\n",
        "  total += x\n",
        "\n",
        "print(\"Lit of items in a set: \", new_set)\n",
        "print(\"Sum of all the items: \", total)"
      ],
      "metadata": {
        "colab": {
          "base_uri": "https://localhost:8080/"
        },
        "id": "ZuAhJnJu2kLq",
        "outputId": "6df17b8b-f119-4fd9-8588-cfa86566ab37"
      },
      "execution_count": 35,
      "outputs": [
        {
          "output_type": "stream",
          "name": "stdout",
          "text": [
            "Lit of items in a set:  {1, 2, 3, 4}\n",
            "Sum of all the items:  10\n"
          ]
        }
      ]
    },
    {
      "cell_type": "code",
      "source": [],
      "metadata": {
        "id": "A3gzt-BM3tIE"
      },
      "execution_count": null,
      "outputs": []
    }
  ]
}