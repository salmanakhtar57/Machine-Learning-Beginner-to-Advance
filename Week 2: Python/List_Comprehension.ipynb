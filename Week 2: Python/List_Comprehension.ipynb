{
  "nbformat": 4,
  "nbformat_minor": 0,
  "metadata": {
    "colab": {
      "provenance": [],
      "authorship_tag": "ABX9TyN59HfcwAWvuph3deQKxVTM"
    },
    "kernelspec": {
      "name": "python3",
      "display_name": "Python 3"
    },
    "language_info": {
      "name": "python"
    }
  },
  "cells": [
    {
      "cell_type": "markdown",
      "source": [
        "#List Comprehension"
      ],
      "metadata": {
        "id": "L4Cl5qqV6QeM"
      }
    },
    {
      "cell_type": "markdown",
      "source": [
        "List comprehensions in Python provide a concise way to create lists based on existing lists or other iterable objects."
      ],
      "metadata": {
        "id": "_rgB3Imn8zXy"
      }
    },
    {
      "cell_type": "markdown",
      "source": [
        "####Simple List"
      ],
      "metadata": {
        "id": "b6ljmZX16U9a"
      }
    },
    {
      "cell_type": "code",
      "execution_count": 2,
      "metadata": {
        "colab": {
          "base_uri": "https://localhost:8080/"
        },
        "id": "8siqocbm6MKe",
        "outputId": "0149636e-1bf5-4a6a-8335-49f672d7465c"
      },
      "outputs": [
        {
          "output_type": "stream",
          "name": "stdout",
          "text": [
            "[2, 6, 10, 14, 18, 22]\n"
          ]
        }
      ],
      "source": [
        "a = [1, 3, 5, 7, 9, 11]\n",
        "c = []\n",
        "for x in a:\n",
        "  c.append(x * 2)\n",
        "print(c)"
      ]
    },
    {
      "cell_type": "markdown",
      "source": [
        "####List Comprension"
      ],
      "metadata": {
        "id": "HKa0O06W64d6"
      }
    },
    {
      "cell_type": "code",
      "source": [
        "d = [x * 2 for x in a]\n",
        "print(d)"
      ],
      "metadata": {
        "colab": {
          "base_uri": "https://localhost:8080/"
        },
        "id": "rdyiQY9q6xUF",
        "outputId": "5656e0a5-95db-45e0-f8b6-89c9fc2af455"
      },
      "execution_count": 4,
      "outputs": [
        {
          "output_type": "stream",
          "name": "stdout",
          "text": [
            "[2, 6, 10, 14, 18, 22]\n"
          ]
        }
      ]
    },
    {
      "cell_type": "markdown",
      "source": [
        "###Example"
      ],
      "metadata": {
        "id": "N6ecJqWg7hkH"
      }
    },
    {
      "cell_type": "markdown",
      "source": [
        "From 1 to 10 find squears of each value"
      ],
      "metadata": {
        "id": "LW-Zbw9w74lX"
      }
    },
    {
      "cell_type": "code",
      "source": [
        "list2 = [x ** 2 for x in range(1, 11)]\n",
        "list2"
      ],
      "metadata": {
        "colab": {
          "base_uri": "https://localhost:8080/"
        },
        "id": "2Lr7Rqef7But",
        "outputId": "0ae0b962-8659-4736-c78a-edcbdc46723b"
      },
      "execution_count": 10,
      "outputs": [
        {
          "output_type": "execute_result",
          "data": {
            "text/plain": [
              "[1, 4, 9, 16, 25, 36, 49, 64, 81, 100]"
            ]
          },
          "metadata": {},
          "execution_count": 10
        }
      ]
    },
    {
      "cell_type": "code",
      "source": [
        "f1 = [x**2 for x in range(10, 0, -1)]\n",
        "f1"
      ],
      "metadata": {
        "colab": {
          "base_uri": "https://localhost:8080/"
        },
        "id": "wvZv9v5H71jE",
        "outputId": "fd953ff7-2689-4465-d0ad-c1a8a447ceb2"
      },
      "execution_count": 11,
      "outputs": [
        {
          "output_type": "execute_result",
          "data": {
            "text/plain": [
              "[100, 81, 64, 49, 36, 25, 16, 9, 4, 1]"
            ]
          },
          "metadata": {},
          "execution_count": 11
        }
      ]
    },
    {
      "cell_type": "code",
      "source": [
        "f2 = [x ** 2 for x in reversed(range(1, 11))]\n",
        "f2"
      ],
      "metadata": {
        "colab": {
          "base_uri": "https://localhost:8080/"
        },
        "id": "jxol7zNA8VIb",
        "outputId": "4e04ad8a-bc4d-466b-e858-50821c2d7eef"
      },
      "execution_count": 15,
      "outputs": [
        {
          "output_type": "execute_result",
          "data": {
            "text/plain": [
              "[100, 81, 64, 49, 36, 25, 16, 9, 4, 1]"
            ]
          },
          "metadata": {},
          "execution_count": 15
        }
      ]
    }
  ]
}