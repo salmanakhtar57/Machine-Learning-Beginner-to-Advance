{
  "nbformat": 4,
  "nbformat_minor": 0,
  "metadata": {
    "colab": {
      "provenance": [],
      "authorship_tag": "ABX9TyPUj7t5FAMTyr6iVmGOyCLm"
    },
    "kernelspec": {
      "name": "python3",
      "display_name": "Python 3"
    },
    "language_info": {
      "name": "python"
    }
  },
  "cells": [
    {
      "cell_type": "markdown",
      "source": [
        "#Dictionaries"
      ],
      "metadata": {
        "id": "xhaEWn51jggi"
      }
    },
    {
      "cell_type": "code",
      "execution_count": 3,
      "metadata": {
        "id": "_VAsOXEWjMkO"
      },
      "outputs": [],
      "source": [
        "#Dictionareis can be writtien in two ways\n",
        "\n",
        "d = {}\n",
        "d1 = dict()"
      ]
    },
    {
      "cell_type": "markdown",
      "source": [
        "Now create a dictionareis with key values in it."
      ],
      "metadata": {
        "id": "JeH9lvyQj9ei"
      }
    },
    {
      "cell_type": "code",
      "source": [
        "data = {}"
      ],
      "metadata": {
        "id": "dCUpO4q1jqqJ"
      },
      "execution_count": 4,
      "outputs": []
    },
    {
      "cell_type": "code",
      "source": [
        "data[\"David\"] = 22\n",
        "data[\"Watson\"] = 32\n",
        "data[\"Maria\"] = 13"
      ],
      "metadata": {
        "id": "GeorTIf4kLmy"
      },
      "execution_count": 6,
      "outputs": []
    },
    {
      "cell_type": "code",
      "source": [
        "data"
      ],
      "metadata": {
        "colab": {
          "base_uri": "https://localhost:8080/"
        },
        "id": "VtdXQrd-kXe2",
        "outputId": "9e80afb5-d99f-4c3c-e3c2-97847835f535"
      },
      "execution_count": 7,
      "outputs": [
        {
          "output_type": "execute_result",
          "data": {
            "text/plain": [
              "{'David': 22, 'Watson': 32, 'Maria': 13}"
            ]
          },
          "metadata": {},
          "execution_count": 7
        }
      ]
    },
    {
      "cell_type": "markdown",
      "source": [
        "print only the value accociated with a key"
      ],
      "metadata": {
        "id": "fSmRLMPxkn5C"
      }
    },
    {
      "cell_type": "code",
      "source": [
        "data[\"David\"]"
      ],
      "metadata": {
        "colab": {
          "base_uri": "https://localhost:8080/"
        },
        "id": "Zi3I9Jg5khkm",
        "outputId": "7a0a3256-7753-4253-f12f-fbb7bc374860"
      },
      "execution_count": 8,
      "outputs": [
        {
          "output_type": "execute_result",
          "data": {
            "text/plain": [
              "22"
            ]
          },
          "metadata": {},
          "execution_count": 8
        }
      ]
    },
    {
      "cell_type": "code",
      "source": [
        "data[\"Maria\"]"
      ],
      "metadata": {
        "colab": {
          "base_uri": "https://localhost:8080/"
        },
        "id": "_FxAlzq-k6JI",
        "outputId": "6bcf1a20-30c9-4ff3-9622-09b736fbde66"
      },
      "execution_count": 9,
      "outputs": [
        {
          "output_type": "execute_result",
          "data": {
            "text/plain": [
              "13"
            ]
          },
          "metadata": {},
          "execution_count": 9
        }
      ]
    },
    {
      "cell_type": "markdown",
      "source": [
        "The keys in dictionaries are commonly strings or numbers"
      ],
      "metadata": {
        "id": "K8PArDjFlHSD"
      }
    },
    {
      "cell_type": "code",
      "source": [
        "d[20] = 10"
      ],
      "metadata": {
        "id": "J56BWMQxk8tS"
      },
      "execution_count": 16,
      "outputs": []
    },
    {
      "cell_type": "code",
      "source": [
        "d[20]"
      ],
      "metadata": {
        "colab": {
          "base_uri": "https://localhost:8080/"
        },
        "id": "gZVZY_fulR2_",
        "outputId": "980c4852-20a9-4ef2-a378-6b6de098e139"
      },
      "execution_count": 18,
      "outputs": [
        {
          "output_type": "execute_result",
          "data": {
            "text/plain": [
              "10"
            ]
          },
          "metadata": {},
          "execution_count": 18
        }
      ]
    },
    {
      "cell_type": "markdown",
      "source": [
        "####Iterating over dictionaries"
      ],
      "metadata": {
        "id": "Mn3mHmufl9Fk"
      }
    },
    {
      "cell_type": "code",
      "source": [
        "for key, values in data.items():\n",
        "  print(key)\n",
        "  print(values)"
      ],
      "metadata": {
        "colab": {
          "base_uri": "https://localhost:8080/"
        },
        "id": "tbUtDD6aldbB",
        "outputId": "a0972b08-3117-40c2-e5f0-2a5c8d3b4d4f"
      },
      "execution_count": 20,
      "outputs": [
        {
          "output_type": "stream",
          "name": "stdout",
          "text": [
            "David\n",
            "22\n",
            "Watson\n",
            "32\n",
            "Maria\n",
            "13\n"
          ]
        }
      ]
    },
    {
      "cell_type": "markdown",
      "source": [
        "#Problem"
      ],
      "metadata": {
        "id": "EPWl38VOmJkX"
      }
    },
    {
      "cell_type": "code",
      "source": [
        "student_scores = {\n",
        "    \"John\": 85,\n",
        "    \"Emily\": 92,\n",
        "    \"Michael\": 78,\n",
        "    \"Jessica\": 95,\n",
        "    \"William\": 88\n",
        "}"
      ],
      "metadata": {
        "id": "YzW7wyHxl4Y2"
      },
      "execution_count": 21,
      "outputs": []
    },
    {
      "cell_type": "code",
      "source": [
        "names = \"\"\n",
        "highest_score = -1\n",
        "for key, value in student_scores.items():\n",
        "  if value > highest_score:\n",
        "    highest_score = value\n",
        "    names = key\n",
        "\n",
        "print(\"Student with highest score is \", names, \"and her score is \", highest_score)"
      ],
      "metadata": {
        "colab": {
          "base_uri": "https://localhost:8080/"
        },
        "id": "_Q05iqoKmbvH",
        "outputId": "bdbb0d74-2243-4669-959f-82bc6dd5947b"
      },
      "execution_count": 31,
      "outputs": [
        {
          "output_type": "stream",
          "name": "stdout",
          "text": [
            "Student with highest score is  Jessica and her score is  95\n"
          ]
        }
      ]
    },
    {
      "cell_type": "code",
      "source": [],
      "metadata": {
        "id": "HKB7b_4Pmogt"
      },
      "execution_count": null,
      "outputs": []
    }
  ]
}