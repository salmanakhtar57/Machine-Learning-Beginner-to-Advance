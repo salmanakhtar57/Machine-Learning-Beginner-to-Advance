{
  "nbformat": 4,
  "nbformat_minor": 0,
  "metadata": {
    "colab": {
      "provenance": [],
      "authorship_tag": "ABX9TyP85KUSYniwc6CDPqAzVuji"
    },
    "kernelspec": {
      "name": "python3",
      "display_name": "Python 3"
    },
    "language_info": {
      "name": "python"
    }
  },
  "cells": [
    {
      "cell_type": "markdown",
      "source": [
        "#Tuples"
      ],
      "metadata": {
        "id": "IVUFOQFvF7zv"
      }
    },
    {
      "cell_type": "code",
      "execution_count": 3,
      "metadata": {
        "colab": {
          "base_uri": "https://localhost:8080/"
        },
        "id": "4AqwYkumF5Iw",
        "outputId": "c7199873-5229-4dba-df04-e810f2c7c12e"
      },
      "outputs": [
        {
          "output_type": "execute_result",
          "data": {
            "text/plain": [
              "(1, 3, 5, 7, 9)"
            ]
          },
          "metadata": {},
          "execution_count": 3
        }
      ],
      "source": [
        "tuple1 = (1, 3, 5, 7, 9)\n",
        "tuple1"
      ]
    },
    {
      "cell_type": "code",
      "source": [
        "tuple2 = (\"one\", 2, \"three\")\n",
        "tuple2"
      ],
      "metadata": {
        "colab": {
          "base_uri": "https://localhost:8080/"
        },
        "id": "Ss3ob1brGg-E",
        "outputId": "7e26296d-e01b-4800-f8b3-9c26ef330e1f"
      },
      "execution_count": 5,
      "outputs": [
        {
          "output_type": "execute_result",
          "data": {
            "text/plain": [
              "('one', 2, 'three')"
            ]
          },
          "metadata": {},
          "execution_count": 5
        }
      ]
    },
    {
      "cell_type": "markdown",
      "source": [
        "####Indexing"
      ],
      "metadata": {
        "id": "59STVuQhG316"
      }
    },
    {
      "cell_type": "code",
      "source": [
        "tuple1[2]"
      ],
      "metadata": {
        "colab": {
          "base_uri": "https://localhost:8080/"
        },
        "id": "jZkpbSKZGwN9",
        "outputId": "90fef5e6-b403-4193-a5b2-86f86886096d"
      },
      "execution_count": 6,
      "outputs": [
        {
          "output_type": "execute_result",
          "data": {
            "text/plain": [
              "5"
            ]
          },
          "metadata": {},
          "execution_count": 6
        }
      ]
    },
    {
      "cell_type": "code",
      "source": [
        "tuple1[0]"
      ],
      "metadata": {
        "colab": {
          "base_uri": "https://localhost:8080/"
        },
        "id": "xa09ApeJG8t9",
        "outputId": "bcfbe9c0-740a-455b-ded9-94476cbfaf6b"
      },
      "execution_count": 8,
      "outputs": [
        {
          "output_type": "execute_result",
          "data": {
            "text/plain": [
              "1"
            ]
          },
          "metadata": {},
          "execution_count": 8
        }
      ]
    },
    {
      "cell_type": "code",
      "source": [
        "tuple2[2]"
      ],
      "metadata": {
        "colab": {
          "base_uri": "https://localhost:8080/",
          "height": 36
        },
        "id": "D5ATpoebG_ab",
        "outputId": "9ce062e1-e35e-4f94-e01b-bca91f94803a"
      },
      "execution_count": 9,
      "outputs": [
        {
          "output_type": "execute_result",
          "data": {
            "text/plain": [
              "'three'"
            ],
            "application/vnd.google.colaboratory.intrinsic+json": {
              "type": "string"
            }
          },
          "metadata": {},
          "execution_count": 9
        }
      ]
    },
    {
      "cell_type": "code",
      "source": [
        "if 'one' in tuple2:\n",
        "  print(\"One is in the tuple\")"
      ],
      "metadata": {
        "colab": {
          "base_uri": "https://localhost:8080/"
        },
        "id": "0qU7eLDyHEty",
        "outputId": "9218b4b3-cf83-4aea-839f-457626e4ed41"
      },
      "execution_count": 10,
      "outputs": [
        {
          "output_type": "stream",
          "name": "stdout",
          "text": [
            "One is in the tuple\n"
          ]
        }
      ]
    },
    {
      "cell_type": "markdown",
      "source": [
        "Slicing is possible. But it will not change rather create a new tuple instead"
      ],
      "metadata": {
        "id": "LBuFSXspHkA-"
      }
    },
    {
      "cell_type": "code",
      "source": [
        "tuple3 = tuple1[1: 4]\n",
        "tuple3"
      ],
      "metadata": {
        "colab": {
          "base_uri": "https://localhost:8080/"
        },
        "id": "WPXJHlCrHeP3",
        "outputId": "a29081e0-4e0b-485f-eafe-55ac441c7230"
      },
      "execution_count": 16,
      "outputs": [
        {
          "output_type": "execute_result",
          "data": {
            "text/plain": [
              "(3, 5, 7)"
            ]
          },
          "metadata": {},
          "execution_count": 16
        }
      ]
    },
    {
      "cell_type": "markdown",
      "source": [
        "Cancatenation"
      ],
      "metadata": {
        "id": "S8Xo8XUGIW5i"
      }
    },
    {
      "cell_type": "code",
      "source": [
        "num1 = (1, 2, 3)\n",
        "num2 = (4, 5, 6)\n",
        "new_tuple = num1 + num2\n",
        "new_tuple"
      ],
      "metadata": {
        "colab": {
          "base_uri": "https://localhost:8080/"
        },
        "id": "I0wnR-uHHvTr",
        "outputId": "acb31709-f472-49b6-932f-61c296fe5b95"
      },
      "execution_count": 18,
      "outputs": [
        {
          "output_type": "execute_result",
          "data": {
            "text/plain": [
              "(1, 2, 3, 4, 5, 6)"
            ]
          },
          "metadata": {},
          "execution_count": 18
        }
      ]
    },
    {
      "cell_type": "code",
      "source": [
        "# Finding lengtg\n",
        "\n",
        "print(len(new_tuple))"
      ],
      "metadata": {
        "colab": {
          "base_uri": "https://localhost:8080/"
        },
        "id": "jqVD4DnRIfhF",
        "outputId": "5331a31a-f032-4c87-a1df-cd65ab0dc598"
      },
      "execution_count": 19,
      "outputs": [
        {
          "output_type": "stream",
          "name": "stdout",
          "text": [
            "6\n"
          ]
        }
      ]
    },
    {
      "cell_type": "markdown",
      "source": [
        "####Add, delete and replace elements"
      ],
      "metadata": {
        "id": "D627sG1hIxji"
      }
    },
    {
      "cell_type": "code",
      "source": [
        "colors = (\"Blue\", \"Yellow\", \"Purple\", \"Green\", \"Black\")\n",
        "var = list(colors)\n",
        "print(\"OriginaltTuple\", colors)\n",
        "\n",
        "print(\"\\nPerforming Operations:\")\n",
        "\n",
        "var.append(\"Gray\")\n",
        "print(var)\n",
        "\n",
        "var.pop(3)\n",
        "print(var)\n",
        "\n",
        "var[2] = \"White\"\n",
        "print(var)\n",
        "\n",
        "colors = tuple(var)\n",
        "print(\"\\nModified tuple: \", colors)"
      ],
      "metadata": {
        "colab": {
          "base_uri": "https://localhost:8080/"
        },
        "id": "FfSuAYWCIstk",
        "outputId": "ac3472ec-ce04-4174-9150-a54db81acfc0"
      },
      "execution_count": 26,
      "outputs": [
        {
          "output_type": "stream",
          "name": "stdout",
          "text": [
            "OriginaltTuple ('Blue', 'Yellow', 'Purple', 'Green', 'Black')\n",
            "\n",
            "Performing Operations:\n",
            "['Blue', 'Yellow', 'Purple', 'Green', 'Black', 'Gray']\n",
            "['Blue', 'Yellow', 'Purple', 'Black', 'Gray']\n",
            "['Blue', 'Yellow', 'White', 'Black', 'Gray']\n",
            "\n",
            "Modified tuple:  ('Blue', 'Yellow', 'White', 'Black', 'Gray')\n"
          ]
        }
      ]
    },
    {
      "cell_type": "markdown",
      "source": [
        "#Problem"
      ],
      "metadata": {
        "id": "if8ejr4ALDUY"
      }
    },
    {
      "cell_type": "markdown",
      "source": [
        "Finding the student who Scores top in the class."
      ],
      "metadata": {
        "id": "eJ4V6P0uL3Xc"
      }
    },
    {
      "cell_type": "code",
      "source": [
        "def get_top_student(student_scores):\n",
        "    max_score = 0\n",
        "    top_student = \"\"\n",
        "\n",
        "    for student, score in student_scores:\n",
        "        if score > max_score:\n",
        "            max_score = score\n",
        "            top_student = student\n",
        "\n",
        "    return top_student"
      ],
      "metadata": {
        "id": "-iIEyxKCJ0I2"
      },
      "execution_count": 36,
      "outputs": []
    },
    {
      "cell_type": "code",
      "source": [
        "student_scores = [(\"Salman\", 100), (\"Ali\", 92), (\"Charls\", 78), (\"Mike\", 96)]\n",
        "\n",
        "top_student = get_top_student(student_scores)\n",
        "print(\"The top scoring student is:\", top_student)"
      ],
      "metadata": {
        "colab": {
          "base_uri": "https://localhost:8080/"
        },
        "id": "lIohegnkNqPQ",
        "outputId": "a5c6889e-e8e3-466e-a680-890b15714f85"
      },
      "execution_count": 38,
      "outputs": [
        {
          "output_type": "stream",
          "name": "stdout",
          "text": [
            "The top scoring student is: Salman\n"
          ]
        }
      ]
    },
    {
      "cell_type": "code",
      "source": [],
      "metadata": {
        "id": "GXICUs8RN-0H"
      },
      "execution_count": null,
      "outputs": []
    }
  ]
}