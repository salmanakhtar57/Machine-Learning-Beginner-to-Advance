{
  "nbformat": 4,
  "nbformat_minor": 0,
  "metadata": {
    "colab": {
      "provenance": [],
      "authorship_tag": "ABX9TyOBhpJoTtpUKDmddUshW1FG"
    },
    "kernelspec": {
      "name": "python3",
      "display_name": "Python 3"
    },
    "language_info": {
      "name": "python"
    }
  },
  "cells": [
    {
      "cell_type": "markdown",
      "source": [
        "#Exception Handling\n",
        "Exception handling in Python allows you to handle and respond to errors or exceptional conditions that may occur during the execution of your program. It helps you prevent your"
      ],
      "metadata": {
        "id": "sUoXw9cDZkoN"
      }
    },
    {
      "cell_type": "code",
      "execution_count": 9,
      "metadata": {
        "colab": {
          "base_uri": "https://localhost:8080/"
        },
        "id": "u2VhZvwTZXkV",
        "outputId": "beca430d-22e8-4f6d-a660-79b5041c921c"
      },
      "outputs": [
        {
          "output_type": "stream",
          "name": "stdout",
          "text": [
            "Enter a number: sfs\n",
            "\n",
            "Multiplication table of sfs is: \n",
            "Invalid input\n",
            "Program ends\n"
          ]
        }
      ],
      "source": [
        "a = input(\"Enter a number: \")\n",
        "print(f\"\\nMultiplication table of {a} is: \")\n",
        "\n",
        "try:\n",
        "  for i in range(1, 11):\n",
        "    print(f\"{int(a)} X {i} = {int(a)*i}\")\n",
        "except:\n",
        "  print(\"Invalid input\")\n",
        "\n",
        "print(\"Program ends\")"
      ]
    },
    {
      "cell_type": "markdown",
      "source": [
        "There are more errors like index errors and value errors etc."
      ],
      "metadata": {
        "id": "rjmTRw_JclPp"
      }
    },
    {
      "cell_type": "markdown",
      "source": [
        "###Example"
      ],
      "metadata": {
        "id": "6bayWBzfdIFh"
      }
    },
    {
      "cell_type": "code",
      "source": [
        "try:\n",
        "    result = 10 / 0\n",
        "    print(result)\n",
        "except ZeroDivisionError:\n",
        "    print(\"Error: Division by zero!\")\n",
        "    print(\"Division errors occurs because 10 cannot be multiplied by 0\")"
      ],
      "metadata": {
        "colab": {
          "base_uri": "https://localhost:8080/"
        },
        "id": "1jc0f0OEamfn",
        "outputId": "38378ccd-de88-47c7-a4d9-1b49d590080e"
      },
      "execution_count": 11,
      "outputs": [
        {
          "output_type": "stream",
          "name": "stdout",
          "text": [
            "Error: Division by zero!\n",
            "Division errors occurs because 10 cannot be multiplied by 0\n"
          ]
        }
      ]
    }
  ]
}