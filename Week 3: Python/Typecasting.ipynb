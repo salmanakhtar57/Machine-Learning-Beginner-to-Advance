{
  "nbformat": 4,
  "nbformat_minor": 0,
  "metadata": {
    "colab": {
      "provenance": [],
      "authorship_tag": "ABX9TyNXPSj3I2PjUf4XKTt5taqF",
      "include_colab_link": true
    },
    "kernelspec": {
      "name": "python3",
      "display_name": "Python 3"
    },
    "language_info": {
      "name": "python"
    }
  },
  "cells": [
    {
      "cell_type": "markdown",
      "metadata": {
        "id": "view-in-github",
        "colab_type": "text"
      },
      "source": [
        "<a href=\"https://colab.research.google.com/github/salmanakhtar57/Machine-Learning-Beginner-to-Advance/blob/main/Week%203%3A%20Python/Typecasting.ipynb\" target=\"_parent\"><img src=\"https://colab.research.google.com/assets/colab-badge.svg\" alt=\"Open In Colab\"/></a>"
      ]
    },
    {
      "cell_type": "markdown",
      "source": [
        "#Typecasting"
      ],
      "metadata": {
        "id": "u832T60RPvNd"
      }
    },
    {
      "cell_type": "markdown",
      "source": [
        "Typecasting refers to the process of converting an object from one data type to another. It is also knowen as type conversion."
      ],
      "metadata": {
        "id": "PeGH9STUPtAM"
      }
    },
    {
      "cell_type": "markdown",
      "source": [
        "When you add 1 + 2 it will give result of 3. However, in typecasting 1 + 2 give 12 and not 3. Now we will learn how this happens."
      ],
      "metadata": {
        "id": "4G0GnjuBP-nI"
      }
    },
    {
      "cell_type": "code",
      "execution_count": 1,
      "metadata": {
        "colab": {
          "base_uri": "https://localhost:8080/"
        },
        "id": "L5daEq5sOAhJ",
        "outputId": "87921fd9-6347-46ee-f003-9bc455d0edb5"
      },
      "outputs": [
        {
          "output_type": "stream",
          "name": "stdout",
          "text": [
            "12\n"
          ]
        }
      ],
      "source": [
        "a = \"1\"\n",
        "b = \"2\"\n",
        "print(a + b)"
      ]
    },
    {
      "cell_type": "markdown",
      "source": [
        "So it means that when we cancatenate two strings it will output two strings together. So integer are working like strings here because they are closed under \"\" commas."
      ],
      "metadata": {
        "id": "Qk74_cksQe0H"
      }
    },
    {
      "cell_type": "markdown",
      "source": [
        "Now let's convert these strings into intergers. This is explicit typecasting."
      ],
      "metadata": {
        "id": "s6puPy71RO8H"
      }
    },
    {
      "cell_type": "code",
      "source": [
        "a = \"1\"\n",
        "b = \"2\"\n",
        "print(int(a) + int(b))"
      ],
      "metadata": {
        "colab": {
          "base_uri": "https://localhost:8080/"
        },
        "id": "DYa7x0dEQVxe",
        "outputId": "1494949e-239e-40ff-fcc6-ada5ec6858ce"
      },
      "execution_count": 4,
      "outputs": [
        {
          "output_type": "stream",
          "name": "stdout",
          "text": [
            "3\n"
          ]
        }
      ]
    },
    {
      "cell_type": "markdown",
      "source": [
        "Implicit Typecasting"
      ],
      "metadata": {
        "id": "epoCVi09SFXE"
      }
    },
    {
      "cell_type": "code",
      "source": [
        "x = 4\n",
        "y = 4.4\n",
        "print(x+y)"
      ],
      "metadata": {
        "colab": {
          "base_uri": "https://localhost:8080/"
        },
        "id": "zgAnTlqmRX3-",
        "outputId": "094beff8-64ca-42bb-a10e-ffa8946edebd"
      },
      "execution_count": 5,
      "outputs": [
        {
          "output_type": "stream",
          "name": "stdout",
          "text": [
            "8.4\n"
          ]
        }
      ]
    },
    {
      "cell_type": "code",
      "source": [],
      "metadata": {
        "id": "Tw_kdUL3SQaB"
      },
      "execution_count": null,
      "outputs": []
    }
  ]
}