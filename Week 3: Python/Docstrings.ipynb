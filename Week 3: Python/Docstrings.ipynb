{
  "nbformat": 4,
  "nbformat_minor": 0,
  "metadata": {
    "colab": {
      "provenance": [],
      "authorship_tag": "ABX9TyO64QKio4K5AgB1hYZsGuqm"
    },
    "kernelspec": {
      "name": "python3",
      "display_name": "Python 3"
    },
    "language_info": {
      "name": "python"
    }
  },
  "cells": [
    {
      "cell_type": "markdown",
      "source": [
        "#Python Dosctrings"
      ],
      "metadata": {
        "id": "81ruX4_80z-J"
      }
    },
    {
      "cell_type": "markdown",
      "source": [
        "Python dosctrings are the strings literals that appear right after the definition of a function, method, class or module."
      ],
      "metadata": {
        "id": "39tLJqJ90kod"
      }
    },
    {
      "cell_type": "code",
      "execution_count": null,
      "metadata": {
        "colab": {
          "base_uri": "https://localhost:8080/"
        },
        "id": "0UX3kWOA0T6N",
        "outputId": "49451b3f-74b1-4c0c-ced5-1ea152ff06cf"
      },
      "outputs": [
        {
          "output_type": "stream",
          "name": "stdout",
          "text": [
            "25\n"
          ]
        }
      ],
      "source": [
        "def square(n):\n",
        "  '''Takes in the number n,\n",
        "  and returns the square of n.'''\n",
        "  print(n**2)\n",
        "square(5)\n",
        "print(square.__s)"
      ]
    },
    {
      "cell_type": "markdown",
      "source": [
        "#Python Dosctrings"
      ],
      "metadata": {
        "id": "qdw6-PO42xu4"
      }
    },
    {
      "cell_type": "markdown",
      "source": [
        "Python Docstrigns are the string literals that appear right after the definition of a function, class, method or module."
      ],
      "metadata": {
        "id": "j1nJ8vWs2jgz"
      }
    },
    {
      "cell_type": "code",
      "source": [
        "def square(n):\n",
        "  '''takes a number n as input and return the square of n as output'''\n",
        "  print(n**2)\n",
        "square(5)"
      ],
      "metadata": {
        "id": "c_90ioY71ODr",
        "colab": {
          "base_uri": "https://localhost:8080/"
        },
        "outputId": "cacdb841-7501-49b8-811c-cd6865e2a0bb"
      },
      "execution_count": 3,
      "outputs": [
        {
          "output_type": "stream",
          "name": "stdout",
          "text": [
            "25\n"
          ]
        }
      ]
    },
    {
      "cell_type": "markdown",
      "source": [
        "1. The string above with 3 commas in the start and 3 in the last like this '''string''' is not comments. Its docstring which can be printed in output as below.\n",
        "2. Docstring always comes on the first line after defining the function. If you write something else after defining the function that the docstring will output none."
      ],
      "metadata": {
        "id": "feq9RTKb3T-A"
      }
    },
    {
      "cell_type": "code",
      "source": [
        "def square(n):\n",
        "  '''takes a number n as input and return the square of n as output'''\n",
        "  print(n**2)\n",
        "print(square.__doc__)\n",
        "square(5)"
      ],
      "metadata": {
        "colab": {
          "base_uri": "https://localhost:8080/"
        },
        "id": "XYwSBhhT3Fks",
        "outputId": "b49ad7c4-b6dc-47c8-efc9-641eef942190"
      },
      "execution_count": 7,
      "outputs": [
        {
          "output_type": "stream",
          "name": "stdout",
          "text": [
            "takes a number n as input and return the square of n as output\n",
            "25\n"
          ]
        }
      ]
    },
    {
      "cell_type": "markdown",
      "source": [
        "###Example"
      ],
      "metadata": {
        "id": "hEHypqF84mAN"
      }
    },
    {
      "cell_type": "code",
      "source": [
        "def add_numbers(a, b):\n",
        "    \"\"\"\n",
        "    This function takes two numbers as input and returns their sum.\n",
        "\n",
        "    Parameters:\n",
        "    a (int): The first number.\n",
        "    b (int): The second number.\n",
        "\n",
        "    Returns:\n",
        "    int: The sum of the two input numbers.\n",
        "    \"\"\"\n",
        "    return a + b"
      ],
      "metadata": {
        "id": "srj38hvD3MDd"
      },
      "execution_count": 9,
      "outputs": []
    },
    {
      "cell_type": "code",
      "source": [
        "print(add_numbers.__doc__)\n",
        "add_numbers(12, 3)"
      ],
      "metadata": {
        "colab": {
          "base_uri": "https://localhost:8080/"
        },
        "id": "rhh7j5X74ogx",
        "outputId": "cb80cb12-b69c-4517-9f64-41889b603b36"
      },
      "execution_count": 12,
      "outputs": [
        {
          "output_type": "stream",
          "name": "stdout",
          "text": [
            "\n",
            "    This function takes two numbers as input and returns their sum.\n",
            "\n",
            "    Parameters:\n",
            "    a (int): The first number.\n",
            "    b (int): The second number.\n",
            "\n",
            "    Returns:\n",
            "    int: The sum of the two input numbers.\n",
            "    \n"
          ]
        },
        {
          "output_type": "execute_result",
          "data": {
            "text/plain": [
              "15"
            ]
          },
          "metadata": {},
          "execution_count": 12
        }
      ]
    }
  ]
}