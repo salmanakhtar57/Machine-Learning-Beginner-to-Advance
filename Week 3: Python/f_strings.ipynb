{
  "nbformat": 4,
  "nbformat_minor": 0,
  "metadata": {
    "colab": {
      "provenance": [],
      "authorship_tag": "ABX9TyN9sxqNDx1tB7+vFySBoZxT"
    },
    "kernelspec": {
      "name": "python3",
      "display_name": "Python 3"
    },
    "language_info": {
      "name": "python"
    }
  },
  "cells": [
    {
      "cell_type": "markdown",
      "source": [
        "#F-Strings"
      ],
      "metadata": {
        "id": "ewVAsxs_elxf"
      }
    },
    {
      "cell_type": "markdown",
      "source": [
        "F-strings allow you to embed expressions inside string literals by using curly braces {}. The expressions inside the curly braces are evaluated at runtime and their values are inserted into the resulting string."
      ],
      "metadata": {
        "id": "qp9sQCzBejhY"
      }
    },
    {
      "cell_type": "code",
      "execution_count": 2,
      "metadata": {
        "id": "afYEZkKIdWIH"
      },
      "outputs": [],
      "source": [
        "country = \"Germany\"\n",
        "color = \"Yellow\"\n",
        "name = \"Mike\""
      ]
    },
    {
      "cell_type": "code",
      "source": [
        "output = f\"My name is {name}, I am from {country} and my car color is {color}.\"\n",
        "print(output)"
      ],
      "metadata": {
        "colab": {
          "base_uri": "https://localhost:8080/"
        },
        "id": "9dKY5ZnneUS0",
        "outputId": "b815c3f4-0e4a-4673-808a-184d4e7f0149"
      },
      "execution_count": 4,
      "outputs": [
        {
          "output_type": "stream",
          "name": "stdout",
          "text": [
            "My name is Mike, I am from Germany and my car color is Yellow.\n"
          ]
        }
      ]
    },
    {
      "cell_type": "markdown",
      "source": [
        "Another way of strings formatting."
      ],
      "metadata": {
        "id": "YRZ1K6AkfKbx"
      }
    },
    {
      "cell_type": "code",
      "source": [
        "letter = \"I am a {}, and my salary is {}.\"\n",
        "profession = \"Data Scientist\"\n",
        "salary = 145000\n",
        "\n",
        "print(letter.format(profession, salary))"
      ],
      "metadata": {
        "colab": {
          "base_uri": "https://localhost:8080/"
        },
        "id": "UVvAuQmMe-Bk",
        "outputId": "b6b86217-c79d-4f7a-e4a6-2db99f944a8f"
      },
      "execution_count": 8,
      "outputs": [
        {
          "output_type": "stream",
          "name": "stdout",
          "text": [
            "I am a Data Scientist, and my salary is 145000.\n"
          ]
        }
      ]
    },
    {
      "cell_type": "code",
      "source": [
        "letter2 = \"My salary is {1} and I am a {0}.\"\n",
        "profession2 = \"Data Scientist\"\n",
        "salary2 = 145000\n",
        "\n",
        "\n",
        "print(letter2.format(profession, salary))"
      ],
      "metadata": {
        "colab": {
          "base_uri": "https://localhost:8080/"
        },
        "id": "mQUQsFtWfsxZ",
        "outputId": "c60a58f0-59cb-49f8-b4ef-14886de99c31"
      },
      "execution_count": 11,
      "outputs": [
        {
          "output_type": "stream",
          "name": "stdout",
          "text": [
            "My salary is 145000 and I am a Data Scientist.\n"
          ]
        }
      ]
    },
    {
      "cell_type": "code",
      "source": [
        "price = 20.00019\n",
        "text = f\"I have {price:.2f} dollors.\"\n",
        "print(text)"
      ],
      "metadata": {
        "colab": {
          "base_uri": "https://localhost:8080/"
        },
        "id": "hzEvXI79gLTH",
        "outputId": "521e712b-00e6-4b35-afb5-af7d722be5e2"
      },
      "execution_count": 14,
      "outputs": [
        {
          "output_type": "stream",
          "name": "stdout",
          "text": [
            "I have 20.00 dollors.\n"
          ]
        }
      ]
    },
    {
      "cell_type": "code",
      "source": [],
      "metadata": {
        "id": "eXgAIy7bhDZN"
      },
      "execution_count": null,
      "outputs": []
    }
  ]
}