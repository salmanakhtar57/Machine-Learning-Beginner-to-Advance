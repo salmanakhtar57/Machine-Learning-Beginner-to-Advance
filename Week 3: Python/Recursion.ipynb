{
  "nbformat": 4,
  "nbformat_minor": 0,
  "metadata": {
    "colab": {
      "provenance": [],
      "authorship_tag": "ABX9TyNRhNczBqCjDGsxdik2/eir"
    },
    "kernelspec": {
      "name": "python3",
      "display_name": "Python 3"
    },
    "language_info": {
      "name": "python"
    }
  },
  "cells": [
    {
      "cell_type": "markdown",
      "source": [
        "#Recursion"
      ],
      "metadata": {
        "id": "o4S9wZZ-W4ax"
      }
    },
    {
      "cell_type": "markdown",
      "source": [
        "Recursion is a programming technique in which a function calls itself. Or defining something in terms of itself."
      ],
      "metadata": {
        "id": "kzKODSLwXX_q"
      }
    },
    {
      "cell_type": "code",
      "execution_count": null,
      "metadata": {
        "id": "uqaH3vHfWtxw"
      },
      "outputs": [],
      "source": [
        "def factorial(n):\n",
        "  if(n==0 or n==1):\n",
        "    return 1\n",
        "  else:\n",
        "    return n * factorial(n-1)"
      ]
    },
    {
      "cell_type": "code",
      "source": [
        "print(factorial(3))"
      ],
      "metadata": {
        "colab": {
          "base_uri": "https://localhost:8080/"
        },
        "id": "8WoXGlRFYZU-",
        "outputId": "4fee04a9-ad76-4029-e624-e0140a2d7362"
      },
      "execution_count": null,
      "outputs": [
        {
          "output_type": "stream",
          "name": "stdout",
          "text": [
            "6\n"
          ]
        }
      ]
    },
    {
      "cell_type": "markdown",
      "source": [
        "The above code finds the factorial of 3 which is 6. It works in the way that when you ask it to print out the factorial of 3 then it will go to the if condition and not finding the 3, then go the the else and here it multiplies 3 with factorial of 2. For this it goes back and finding the factorial of 2. For this it has to multiply 2 with factorial of 1. So he finds 1 in if condition which returns the value of 1. So the factorial of 2 is 2 which then multiply by 3 and gives the output of 6."
      ],
      "metadata": {
        "id": "plP_sRIuY8tF"
      }
    },
    {
      "cell_type": "code",
      "source": [
        "# 3 * factorial(2)\n",
        "# 3 * 2 * factorial(1)\n",
        "# 3 * 2 * 1\n",
        "# 6"
      ],
      "metadata": {
        "id": "9nIXrVeVYhD8"
      },
      "execution_count": null,
      "outputs": []
    },
    {
      "cell_type": "markdown",
      "source": [
        "###Fibonacci"
      ],
      "metadata": {
        "id": "daldB60napyU"
      }
    },
    {
      "cell_type": "code",
      "source": [
        "# f(0) = 0\n",
        "# f(1) = 1\n",
        "# f(2) = f1 + f0\n",
        "# f(n) = f(n-1) + f(n-2)"
      ],
      "metadata": {
        "id": "slNWdETIavA7"
      },
      "execution_count": 3,
      "outputs": []
    },
    {
      "cell_type": "code",
      "source": [
        "def fibonacci(n):\n",
        "    if n == 0:\n",
        "      return 0\n",
        "    elif n ==1:\n",
        "      return 1\n",
        "    else:\n",
        "      return fibonacci(n-1) + fibonacci(n-2)"
      ],
      "metadata": {
        "id": "CSj0IZLlbAlq"
      },
      "execution_count": 4,
      "outputs": []
    },
    {
      "cell_type": "code",
      "source": [
        "n = 5\n",
        "fibonacci_sequence = [fibonacci(i) for i in range(n)]\n",
        "print(fibonacci_sequence)"
      ],
      "metadata": {
        "colab": {
          "base_uri": "https://localhost:8080/"
        },
        "id": "oBqw5z_Rey2n",
        "outputId": "5299a291-72fe-4cad-e68e-578938f220d0"
      },
      "execution_count": 7,
      "outputs": [
        {
          "output_type": "stream",
          "name": "stdout",
          "text": [
            "[0, 1, 1, 2, 3]\n"
          ]
        }
      ]
    },
    {
      "cell_type": "code",
      "source": [],
      "metadata": {
        "id": "meO4t_WBe5FJ"
      },
      "execution_count": null,
      "outputs": []
    }
  ]
}