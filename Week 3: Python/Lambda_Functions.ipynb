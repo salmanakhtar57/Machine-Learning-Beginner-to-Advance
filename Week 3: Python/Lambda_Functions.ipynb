{
  "nbformat": 4,
  "nbformat_minor": 0,
  "metadata": {
    "colab": {
      "provenance": [],
      "authorship_tag": "ABX9TyNilthB2fep8RCzDi7xJprm"
    },
    "kernelspec": {
      "name": "python3",
      "display_name": "Python 3"
    },
    "language_info": {
      "name": "python"
    }
  },
  "cells": [
    {
      "cell_type": "markdown",
      "source": [
        "#Lambda Function\n",
        "\n",
        "####In Python, a lambda function is a small anonymous function that can be defined without a name. It is also known as an \"anonymous function\" because it does not require a def statement like a regular function.\n",
        "\n",
        "1. Use lambda when you have to write code in one line. Otherwise keep using other fucntion with 'def' and 'return' key word.\n",
        "2. Use lambda when function is passing as an argument within a function."
      ],
      "metadata": {
        "id": "Nh2AZt__tmwt"
      }
    },
    {
      "cell_type": "markdown",
      "source": [
        "Simple Function"
      ],
      "metadata": {
        "id": "4MH7V0FDuAmG"
      }
    },
    {
      "cell_type": "code",
      "execution_count": 1,
      "metadata": {
        "colab": {
          "base_uri": "https://localhost:8080/"
        },
        "id": "e5riaSWDtjbr",
        "outputId": "389472c9-7d9e-46e2-dc97-f25a7a61a465"
      },
      "outputs": [
        {
          "output_type": "stream",
          "name": "stdout",
          "text": [
            "10\n"
          ]
        }
      ],
      "source": [
        "def multiply(x):\n",
        "  return x * 2\n",
        "\n",
        "print(multiply(5))"
      ]
    },
    {
      "cell_type": "markdown",
      "source": [
        "Lambda Function"
      ],
      "metadata": {
        "id": "XDPbKzRpuQiX"
      }
    },
    {
      "cell_type": "code",
      "source": [
        "multiply = lambda x: x*2\n",
        "\n",
        "print(multiply(5))"
      ],
      "metadata": {
        "colab": {
          "base_uri": "https://localhost:8080/"
        },
        "id": "ZPMSuyrzuNFp",
        "outputId": "523cc518-19a3-4a84-f5d3-51cd858cdac2"
      },
      "execution_count": 3,
      "outputs": [
        {
          "output_type": "stream",
          "name": "stdout",
          "text": [
            "10\n"
          ]
        }
      ]
    },
    {
      "cell_type": "code",
      "source": [
        "cube = lambda x: x*x*x\n",
        "\n",
        "print(cube(5))"
      ],
      "metadata": {
        "colab": {
          "base_uri": "https://localhost:8080/"
        },
        "id": "mDDJ1jO_uexA",
        "outputId": "018d7658-cdfc-469f-e61f-d70801063517"
      },
      "execution_count": 5,
      "outputs": [
        {
          "output_type": "stream",
          "name": "stdout",
          "text": [
            "125\n"
          ]
        }
      ]
    },
    {
      "cell_type": "code",
      "source": [
        "average = lambda x,y,z: (x+y+z) / 3\n",
        "\n",
        "print(average(5, 6, 7))"
      ],
      "metadata": {
        "colab": {
          "base_uri": "https://localhost:8080/"
        },
        "id": "jRQx27ZPu2Pd",
        "outputId": "d004b5ce-2f5f-48e2-d50c-0f6a15475640"
      },
      "execution_count": 8,
      "outputs": [
        {
          "output_type": "stream",
          "name": "stdout",
          "text": [
            "6.0\n"
          ]
        }
      ]
    },
    {
      "cell_type": "markdown",
      "source": [
        "Now creating a function apply and compare this with lambda function"
      ],
      "metadata": {
        "id": "3Oa1s9Qgw-dF"
      }
    },
    {
      "cell_type": "code",
      "source": [
        "def apply(fx, value):\n",
        "  return 6 + fx(value) # 6 + cube of function.\n",
        "\n",
        "print(apply(cube, 2)) # 6 + cube of 2 = 6 + 8 = 14"
      ],
      "metadata": {
        "colab": {
          "base_uri": "https://localhost:8080/"
        },
        "id": "z0VcAbdnvLzo",
        "outputId": "dcbd6439-7eaf-40f2-d5e6-650d77a0a267"
      },
      "execution_count": 12,
      "outputs": [
        {
          "output_type": "stream",
          "name": "stdout",
          "text": [
            "14\n"
          ]
        }
      ]
    },
    {
      "cell_type": "markdown",
      "source": [
        "This works like an anonymoys function. Wether you declare cube before or not. This function will work on all cases like cube, square or any other calculation."
      ],
      "metadata": {
        "id": "Gk5LpMglxuWy"
      }
    },
    {
      "cell_type": "code",
      "source": [
        "print(apply(lambda x: x*x*x, 2))"
      ],
      "metadata": {
        "colab": {
          "base_uri": "https://localhost:8080/"
        },
        "id": "bzMmKBSqwarE",
        "outputId": "f286855e-7ac6-48d6-e6d0-54cc763448b3"
      },
      "execution_count": 13,
      "outputs": [
        {
          "output_type": "stream",
          "name": "stdout",
          "text": [
            "14\n"
          ]
        }
      ]
    }
  ]
}