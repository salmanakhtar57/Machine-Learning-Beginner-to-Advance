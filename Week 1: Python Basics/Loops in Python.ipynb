{
  "nbformat": 4,
  "nbformat_minor": 0,
  "metadata": {
    "colab": {
      "provenance": [],
      "authorship_tag": "ABX9TyPNj5T6FgCiGJWF9ssKFKfB",
      "include_colab_link": true
    },
    "kernelspec": {
      "name": "python3",
      "display_name": "Python 3"
    },
    "language_info": {
      "name": "python"
    }
  },
  "cells": [
    {
      "cell_type": "markdown",
      "metadata": {
        "id": "view-in-github",
        "colab_type": "text"
      },
      "source": [
        "<a href=\"https://colab.research.google.com/github/salmanakhtar57/Machine-Learning-Beginner-to-Advance/blob/main/Week%201%3A%20Python%20Basics/Loops_in_Python.ipynb\" target=\"_parent\"><img src=\"https://colab.research.google.com/assets/colab-badge.svg\" alt=\"Open In Colab\"/></a>"
      ]
    },
    {
      "cell_type": "markdown",
      "source": [
        "#Loops in Python\n",
        "A loop is a programming construct that allows you to repeatedly execute a block of code. There are two types of loops in Python: for loops and while loops.\n",
        "\n",
        "###For Loop\n",
        "A for loop is used to iterate over a sequence (such as a list, tuple, or string) and execute the same block of code for each item in the sequence.\n",
        "\n",
        "###While Loop\n",
        "A while loop, is used to repeatedly execute a block of code as long as a certain condition is true.\n",
        "\n",
        "Lets discuss each of them with the help of examples."
      ],
      "metadata": {
        "id": "KH4uL_7SKsrZ"
      }
    },
    {
      "cell_type": "markdown",
      "source": [
        "#For Loops"
      ],
      "metadata": {
        "id": "IN31XODoLRoW"
      }
    },
    {
      "cell_type": "code",
      "execution_count": 5,
      "metadata": {
        "id": "Dc1bErJwQCkq",
        "colab": {
          "base_uri": "https://localhost:8080/"
        },
        "outputId": "affa3e45-be2c-42b8-f729-ed1aa1891bba"
      },
      "outputs": [
        {
          "output_type": "stream",
          "name": "stdout",
          "text": [
            "banana\n",
            "apple\n",
            "mango\n"
          ]
        }
      ],
      "source": [
        "fruits = [\"banana\", \"apple\", \"mango\"]\n",
        "\n",
        "for fruit in fruits:\n",
        "  print(fruit)"
      ]
    },
    {
      "cell_type": "code",
      "source": [
        "for i in range(1, 5):\n",
        "  print(i)"
      ],
      "metadata": {
        "colab": {
          "base_uri": "https://localhost:8080/"
        },
        "id": "Jg1BKhHLLgls",
        "outputId": "07f8039d-098c-4d2e-a91e-03e93cc4a33d"
      },
      "execution_count": 10,
      "outputs": [
        {
          "output_type": "stream",
          "name": "stdout",
          "text": [
            "1\n",
            "2\n",
            "3\n",
            "4\n"
          ]
        }
      ]
    },
    {
      "cell_type": "markdown",
      "source": [
        "Iterating over a dictionary"
      ],
      "metadata": {
        "id": "oXNFUAWnNBX0"
      }
    },
    {
      "cell_type": "code",
      "source": [
        "person = {\"name\": \"John\", \"age\": 30, \"city\": \"New York\"}\n",
        "\n",
        "for key, value in person.items():\n",
        "    print(key, \":\", value)"
      ],
      "metadata": {
        "colab": {
          "base_uri": "https://localhost:8080/"
        },
        "id": "FbtdaYOFMXz0",
        "outputId": "939b109a-7f2d-420e-ebcb-a176202780b9"
      },
      "execution_count": 11,
      "outputs": [
        {
          "output_type": "stream",
          "name": "stdout",
          "text": [
            "name : John\n",
            "age : 30\n",
            "city : New York\n"
          ]
        }
      ]
    },
    {
      "cell_type": "markdown",
      "source": [
        "Calculating the Sum of Even and Odd Numbers\n",
        "\n",
        "This code will add all the even numbers and odd numbers seperately from the given list and desplay the output seperately."
      ],
      "metadata": {
        "id": "_ChgBysiNxqT"
      }
    },
    {
      "cell_type": "code",
      "source": [
        "numbers = [1, 2, 3, 4, 5]\n",
        "even_sum = 0\n",
        "odd_sum = 0\n",
        "\n",
        "for num in numbers:\n",
        "    if num % 2 == 0:\n",
        "        even_sum += num\n",
        "    else:\n",
        "        odd_sum += num\n",
        "\n",
        "print(\"Sum of even numbers:\", even_sum)\n",
        "print(\"Sum of odd numbers:\", odd_sum)"
      ],
      "metadata": {
        "colab": {
          "base_uri": "https://localhost:8080/"
        },
        "id": "4Hs73ncXM9Lm",
        "outputId": "ec8f7469-3dfc-47a1-8249-27833478afa5"
      },
      "execution_count": 12,
      "outputs": [
        {
          "output_type": "stream",
          "name": "stdout",
          "text": [
            "Sum of even numbers: 6\n",
            "Sum of odd numbers: 9\n"
          ]
        }
      ]
    },
    {
      "cell_type": "markdown",
      "source": [
        "#While Loops"
      ],
      "metadata": {
        "id": "IzggkkmCOFlN"
      }
    },
    {
      "cell_type": "code",
      "source": [],
      "metadata": {
        "id": "hwz9b2S6OVxo"
      },
      "execution_count": 14,
      "outputs": []
    },
    {
      "cell_type": "markdown",
      "source": [
        "This will generate counting from 5 to 1."
      ],
      "metadata": {
        "id": "n16GJC9fOpbp"
      }
    },
    {
      "cell_type": "code",
      "source": [
        "count = 5\n",
        "\n",
        "while count > 0:\n",
        "    print(count)\n",
        "    count -= 1"
      ],
      "metadata": {
        "colab": {
          "base_uri": "https://localhost:8080/"
        },
        "id": "avKN323GNmOZ",
        "outputId": "5fd58c4d-509b-4162-df29-d8453be6227e"
      },
      "execution_count": 13,
      "outputs": [
        {
          "output_type": "stream",
          "name": "stdout",
          "text": [
            "5\n",
            "4\n",
            "3\n",
            "2\n",
            "1\n"
          ]
        }
      ]
    },
    {
      "cell_type": "markdown",
      "source": [
        "Calculating the sum of numbers"
      ],
      "metadata": {
        "id": "oa0KtBlePJKo"
      }
    },
    {
      "cell_type": "code",
      "source": [
        "total = 0\n",
        "num = 1\n",
        "\n",
        "while num <= 10:\n",
        "    total += num\n",
        "    num += 1\n",
        "\n",
        "print(\"Sum of numbers:\", total)"
      ],
      "metadata": {
        "colab": {
          "base_uri": "https://localhost:8080/"
        },
        "id": "hcnwcm0GOU9X",
        "outputId": "00de2dfc-868e-4acb-aa64-538551fc9259"
      },
      "execution_count": 15,
      "outputs": [
        {
          "output_type": "stream",
          "name": "stdout",
          "text": [
            "Sum of numbers: 55\n"
          ]
        }
      ]
    }
  ]
}
