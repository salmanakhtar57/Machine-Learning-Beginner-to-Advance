{
  "nbformat": 4,
  "nbformat_minor": 0,
  "metadata": {
    "colab": {
      "provenance": [],
      "authorship_tag": "ABX9TyNyHHr4m4t7OvrgNY0yUO2P",
      "include_colab_link": true
    },
    "kernelspec": {
      "name": "python3",
      "display_name": "Python 3"
    },
    "language_info": {
      "name": "python"
    }
  },
  "cells": [
    {
      "cell_type": "markdown",
      "metadata": {
        "id": "view-in-github",
        "colab_type": "text"
      },
      "source": [
        "<a href=\"https://colab.research.google.com/github/salmanakhtar57/Machine-Learning-Beginner-to-Advance/blob/main/Week%201%3A%20Python%20Basics/Conditional_Statements.ipynb\" target=\"_parent\"><img src=\"https://colab.research.google.com/assets/colab-badge.svg\" alt=\"Open In Colab\"/></a>"
      ]
    },
    {
      "cell_type": "markdown",
      "source": [
        "#Conditional Statments\n",
        "Conditional statements are used in programming to compare two or more blocks of code and execute the one that is true.\n",
        "\n",
        "Conditional statements are of three types in Python:\n",
        "\n",
        "1. If statements\n",
        "\n",
        "2.  if-else statements\n",
        "\n",
        "3. if-elif-else statements"
      ],
      "metadata": {
        "id": "ndoZxqU_Ntdq"
      }
    },
    {
      "cell_type": "markdown",
      "source": [
        "##If statements\n",
        "\n",
        "It is used to execute the block of code if a certain condition is true.\n",
        "\n",
        "It can be one or more."
      ],
      "metadata": {
        "id": "ohG7NJKjN_YW"
      }
    },
    {
      "cell_type": "code",
      "execution_count": null,
      "metadata": {
        "colab": {
          "base_uri": "https://localhost:8080/"
        },
        "id": "uWUmZlbpMnVJ",
        "outputId": "9da75c75-886c-43df-a2b4-f89ba46244b6"
      },
      "outputs": [
        {
          "output_type": "stream",
          "name": "stdout",
          "text": [
            "Number is greater then 18\n"
          ]
        }
      ],
      "source": [
        "num = 20\n",
        "if num > 18:\n",
        "  print(\"Number is greater then 18\")"
      ]
    },
    {
      "cell_type": "markdown",
      "source": [
        "#If-else statements\n",
        "\n",
        "It checks if a condition is true or false.\n",
        "\n",
        "If the condition is true, the program executes the code in the if block.\n",
        "\n",
        "If it's false, it executes the code in the else block."
      ],
      "metadata": {
        "id": "rCCjVBn4OiAA"
      }
    },
    {
      "cell_type": "code",
      "source": [
        "num2 = 15\n",
        "if num2 > 18:\n",
        "  print(\"Number is greater then 18\")\n",
        "else:\n",
        "  print(\"Number is not greater then 18\")"
      ],
      "metadata": {
        "colab": {
          "base_uri": "https://localhost:8080/"
        },
        "id": "spFF_A1fOUly",
        "outputId": "646dd0fe-0583-44fe-a790-20e1896aa911"
      },
      "execution_count": null,
      "outputs": [
        {
          "output_type": "stream",
          "name": "stdout",
          "text": [
            "Number is not greater then 18\n"
          ]
        }
      ]
    },
    {
      "cell_type": "markdown",
      "source": [
        "#If-elif-else statement\n",
        "\n",
        "It checks multiple conditions until it finds one that is true.\n",
        "\n",
        "If the first condition is true it will be executed,\n",
        "\n",
        "Otherwise, if the condition is false the program moves on to the next one.\n",
        "\n",
        "If the program finds none of the conditions true, the program executes the code in the else block."
      ],
      "metadata": {
        "id": "Da6fzmlyPMlj"
      }
    },
    {
      "cell_type": "code",
      "source": [
        "num3 = 10\n",
        "if num3 > 18:\n",
        "  print(\"Number is greater then 18\")\n",
        "elif num3 < 18:\n",
        "  print(\"Number is smaller then 18\")\n",
        "else:\n",
        "  print(\"number is equal to 18\")"
      ],
      "metadata": {
        "colab": {
          "base_uri": "https://localhost:8080/"
        },
        "id": "Ob_KpPrnPFoy",
        "outputId": "5c630e3a-f902-45ec-b12b-54ada5539f15"
      },
      "execution_count": null,
      "outputs": [
        {
          "output_type": "stream",
          "name": "stdout",
          "text": [
            "Number is smaller then 18\n"
          ]
        }
      ]
    },
    {
      "cell_type": "code",
      "source": [],
      "metadata": {
        "id": "DsS82GnOQAZX"
      },
      "execution_count": null,
      "outputs": []
    }
  ]
}