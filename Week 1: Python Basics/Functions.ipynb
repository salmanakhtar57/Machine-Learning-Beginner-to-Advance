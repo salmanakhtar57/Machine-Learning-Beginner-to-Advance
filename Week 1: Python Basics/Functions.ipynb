{
  "nbformat": 4,
  "nbformat_minor": 0,
  "metadata": {
    "colab": {
      "provenance": [],
      "authorship_tag": "ABX9TyPtOQbitn4bsXFlDaP6MqNo"
    },
    "kernelspec": {
      "name": "python3",
      "display_name": "Python 3"
    },
    "language_info": {
      "name": "python"
    }
  },
  "cells": [
    {
      "cell_type": "markdown",
      "source": [
        "#Functions\n",
        "Functions are blocks of reusable code that perform specific tasks. They allow you to break down your program into smaller, modular pieces, making your code more organized, readable, and easier to maintain.\n"
      ],
      "metadata": {
        "id": "ZU50BrPYZpGD"
      }
    },
    {
      "cell_type": "markdown",
      "source": [
        "Functions can be known as a collections of code or a collection of inttructions."
      ],
      "metadata": {
        "id": "xZ4UeOdrbvzz"
      }
    },
    {
      "cell_type": "markdown",
      "source": [
        "This programs works in a way that we define the funciton with 'def' word and at the end of the code we need to call the function by its name to get the output."
      ],
      "metadata": {
        "id": "2HwD2rYsaaCs"
      }
    },
    {
      "cell_type": "code",
      "execution_count": 1,
      "metadata": {
        "colab": {
          "base_uri": "https://localhost:8080/"
        },
        "id": "-ZfFWhPxZmBy",
        "outputId": "118d7614-3848-404f-8e3c-0da3b0a6f38c"
      },
      "outputs": [
        {
          "output_type": "stream",
          "name": "stdout",
          "text": [
            "Outside the function\n"
          ]
        }
      ],
      "source": [
        "def my_function():\n",
        "  print(\"Inside the function\")\n",
        "print(\"Outside the function\")"
      ]
    },
    {
      "cell_type": "markdown",
      "source": [
        "This code will not print the text inside the function unless it is called."
      ],
      "metadata": {
        "id": "Jme7Vp6BaMKW"
      }
    },
    {
      "cell_type": "code",
      "source": [
        "my_function()"
      ],
      "metadata": {
        "colab": {
          "base_uri": "https://localhost:8080/"
        },
        "id": "hu1DVobsaDQr",
        "outputId": "2e79b763-d7e1-4561-8f41-4a275eabf125"
      },
      "execution_count": 3,
      "outputs": [
        {
          "output_type": "stream",
          "name": "stdout",
          "text": [
            "Inside the function\n",
            "Inside the function\n"
          ]
        }
      ]
    },
    {
      "cell_type": "code",
      "source": [
        "# you can call the function as many times as possible.\n",
        "my_function()\n",
        "my_function()\n",
        "my_function()"
      ],
      "metadata": {
        "colab": {
          "base_uri": "https://localhost:8080/"
        },
        "id": "mNyDTRiIaVm4",
        "outputId": "09826c9d-dd7e-4dc1-8edf-4ee45d9a5210"
      },
      "execution_count": 4,
      "outputs": [
        {
          "output_type": "stream",
          "name": "stdout",
          "text": [
            "Inside the function\n",
            "Inside the function\n",
            "Inside the function\n"
          ]
        }
      ]
    },
    {
      "cell_type": "markdown",
      "source": [
        "Performing Calculations"
      ],
      "metadata": {
        "id": "VROlA3b9cL_l"
      }
    },
    {
      "cell_type": "code",
      "source": [
        "def multiply(a, b):\n",
        "  return a * b\n",
        "\n",
        "multiply (2, 3)"
      ],
      "metadata": {
        "colab": {
          "base_uri": "https://localhost:8080/"
        },
        "id": "x-zB1kyUdDmf",
        "outputId": "9e723c9f-fe08-4692-eace-55447cae7c72"
      },
      "execution_count": 16,
      "outputs": [
        {
          "output_type": "execute_result",
          "data": {
            "text/plain": [
              "6"
            ]
          },
          "metadata": {},
          "execution_count": 16
        }
      ]
    },
    {
      "cell_type": "code",
      "source": [
        "def add(x, y):\n",
        "  return x + y\n",
        "\n",
        "add(2, 3)"
      ],
      "metadata": {
        "colab": {
          "base_uri": "https://localhost:8080/"
        },
        "id": "UslABOSba-ul",
        "outputId": "f1cde089-f1ac-4de8-ce55-c3c8e8f381d7"
      },
      "execution_count": 17,
      "outputs": [
        {
          "output_type": "execute_result",
          "data": {
            "text/plain": [
              "5"
            ]
          },
          "metadata": {},
          "execution_count": 17
        }
      ]
    },
    {
      "cell_type": "code",
      "source": [
        "def func(x):\n",
        "  return 2 + x\n",
        "\n",
        "func(2)"
      ],
      "metadata": {
        "colab": {
          "base_uri": "https://localhost:8080/"
        },
        "id": "MxOjPgHLcWvU",
        "outputId": "c5115ff4-f02e-445a-a3e2-e913ba6b6cb8"
      },
      "execution_count": 19,
      "outputs": [
        {
          "output_type": "execute_result",
          "data": {
            "text/plain": [
              "4"
            ]
          },
          "metadata": {},
          "execution_count": 19
        }
      ]
    },
    {
      "cell_type": "code",
      "source": [
        "a = func(4)\n",
        "a"
      ],
      "metadata": {
        "colab": {
          "base_uri": "https://localhost:8080/"
        },
        "id": "J6mTmz4GchUv",
        "outputId": "193ecb87-5d96-4aa2-facc-c6cf2758969b"
      },
      "execution_count": 23,
      "outputs": [
        {
          "output_type": "execute_result",
          "data": {
            "text/plain": [
              "6"
            ]
          },
          "metadata": {},
          "execution_count": 23
        }
      ]
    },
    {
      "cell_type": "markdown",
      "source": [
        "###BMI Calculator"
      ],
      "metadata": {
        "id": "9qTCPyjFd_Dn"
      }
    },
    {
      "cell_type": "code",
      "source": [
        "name1 = \"Salman\"\n",
        "height1 = 5\n",
        "weight1 = 40\n",
        "\n",
        "name2 = \"Ali\"\n",
        "height2 = 6\n",
        "weight2 = 90"
      ],
      "metadata": {
        "id": "dQMy7oSXc74f"
      },
      "execution_count": 41,
      "outputs": []
    },
    {
      "cell_type": "code",
      "source": [
        "def bmi_calculator(name, height, weight):\n",
        "  bmi = weight / (height ** 2)\n",
        "  print(\"BMI:\", bmi)\n",
        "  if bmi < 2.0:\n",
        "    return name + \" is not overweight\"\n",
        "  else:\n",
        "    return name + \" is overweight\"\n",
        "\n",
        "result1 = bmi_calculator(name1, height1, weight1)\n",
        "result2 = bmi_calculator(name2, height2, weight2)"
      ],
      "metadata": {
        "colab": {
          "base_uri": "https://localhost:8080/"
        },
        "id": "c0q4AfpqeVKi",
        "outputId": "a6910fcd-cc1f-4398-a951-9820c1c77a16"
      },
      "execution_count": 46,
      "outputs": [
        {
          "output_type": "stream",
          "name": "stdout",
          "text": [
            "BMI: 1.6\n",
            "BMI: 2.5\n"
          ]
        }
      ]
    },
    {
      "cell_type": "code",
      "source": [
        "print(result1)\n",
        "print(result2)"
      ],
      "metadata": {
        "colab": {
          "base_uri": "https://localhost:8080/"
        },
        "id": "ZKEwkZC9epIq",
        "outputId": "69cb360c-14e0-4406-b867-8b6e89851bc1"
      },
      "execution_count": 47,
      "outputs": [
        {
          "output_type": "stream",
          "name": "stdout",
          "text": [
            "Salman is not overweight\n",
            "Ali is overweight\n"
          ]
        }
      ]
    },
    {
      "cell_type": "code",
      "source": [],
      "metadata": {
        "id": "pF08RqpifmNZ"
      },
      "execution_count": null,
      "outputs": []
    }
  ]
}