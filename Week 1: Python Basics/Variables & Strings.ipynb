{
  "nbformat": 4,
  "nbformat_minor": 0,
  "metadata": {
    "colab": {
      "provenance": [],
      "authorship_tag": "ABX9TyPj6p83v1Ts8nAOOAAzJSZx",
      "include_colab_link": true
    },
    "kernelspec": {
      "name": "python3",
      "display_name": "Python 3"
    },
    "language_info": {
      "name": "python"
    }
  },
  "cells": [
    {
      "cell_type": "markdown",
      "metadata": {
        "id": "view-in-github",
        "colab_type": "text"
      },
      "source": [
        "<a href=\"https://colab.research.google.com/github/salmanakhtar57/Machine-Learning-Beginner-to-Advance/blob/main/Week%201%3A%20Python%20Basics/Variables_%26_Strings.ipynb\" target=\"_parent\"><img src=\"https://colab.research.google.com/assets/colab-badge.svg\" alt=\"Open In Colab\"/></a>"
      ]
    },
    {
      "cell_type": "markdown",
      "source": [
        "# Variables\n",
        "####Integers\n",
        "a equals to 1 means variable 'a' contains the value '1' or variable 'a' refers to the value '1'. When you print, it will return 1."
      ],
      "metadata": {
        "id": "QvZ9HsaRFnuQ"
      }
    },
    {
      "cell_type": "code",
      "execution_count": null,
      "metadata": {
        "id": "EWyuPNIq3lRS"
      },
      "outputs": [],
      "source": [
        "a = 1"
      ]
    },
    {
      "cell_type": "code",
      "source": [
        "print(a)"
      ],
      "metadata": {
        "colab": {
          "base_uri": "https://localhost:8080/"
        },
        "id": "pStlYJCyGdrC",
        "outputId": "7ce10f95-1eb3-4576-fc91-2fc8985d0d3e"
      },
      "execution_count": null,
      "outputs": [
        {
          "output_type": "stream",
          "name": "stdout",
          "text": [
            "1\n"
          ]
        }
      ]
    },
    {
      "cell_type": "markdown",
      "source": [
        "Now you can create variables of different types inlcuding integer, floats, strings and boolean."
      ],
      "metadata": {
        "id": "p-tyxqPoHBy1"
      }
    },
    {
      "cell_type": "code",
      "source": [
        "b = 2\n",
        "print(b)"
      ],
      "metadata": {
        "colab": {
          "base_uri": "https://localhost:8080/"
        },
        "id": "QiQSMbYzG6s5",
        "outputId": "ef906a76-57bf-48d6-955e-77cf72a6e15e"
      },
      "execution_count": null,
      "outputs": [
        {
          "output_type": "stream",
          "name": "stdout",
          "text": [
            "2\n"
          ]
        }
      ]
    },
    {
      "cell_type": "markdown",
      "source": [
        "Assigining a variable to another variable"
      ],
      "metadata": {
        "id": "XpY0zXSCIShu"
      }
    },
    {
      "cell_type": "code",
      "source": [
        "#now b refers to c and giving output of 2 c = b\n",
        "\n",
        "f = b"
      ],
      "metadata": {
        "id": "WsCeE77UH-VL"
      },
      "execution_count": null,
      "outputs": []
    },
    {
      "cell_type": "code",
      "source": [
        "print(f)"
      ],
      "metadata": {
        "colab": {
          "base_uri": "https://localhost:8080/"
        },
        "id": "hf1zlX9oIPML",
        "outputId": "99d7342b-36b3-4127-80a2-5ad2cd214dc9"
      },
      "execution_count": null,
      "outputs": [
        {
          "output_type": "stream",
          "name": "stdout",
          "text": [
            "2\n"
          ]
        }
      ]
    },
    {
      "cell_type": "markdown",
      "source": [
        "now b refers to c and giving output of 2\n",
        "c = b"
      ],
      "metadata": {
        "id": "ZwBLI3clHxQ1"
      }
    },
    {
      "cell_type": "markdown",
      "source": [
        "#####Strings"
      ],
      "metadata": {
        "id": "1gz6Yi5_HTGF"
      }
    },
    {
      "cell_type": "code",
      "source": [
        "word = \"Hello World\"\n",
        "print(word)"
      ],
      "metadata": {
        "colab": {
          "base_uri": "https://localhost:8080/"
        },
        "id": "Qwo3xH-YHcaF",
        "outputId": "db59311e-84ef-4e91-cb44-7bd446fea050"
      },
      "execution_count": null,
      "outputs": [
        {
          "output_type": "stream",
          "name": "stdout",
          "text": [
            "Hello World\n"
          ]
        }
      ]
    },
    {
      "cell_type": "code",
      "source": [
        "name = \"Salman Akhtar\"\n",
        "print(name)"
      ],
      "metadata": {
        "colab": {
          "base_uri": "https://localhost:8080/"
        },
        "id": "joRHhB2fHQFL",
        "outputId": "8c87c061-8422-4706-e7fc-def6d6cda7a1"
      },
      "execution_count": null,
      "outputs": [
        {
          "output_type": "stream",
          "name": "stdout",
          "text": [
            "Salman Akhtar\n"
          ]
        }
      ]
    },
    {
      "cell_type": "markdown",
      "source": [
        "#####Float"
      ],
      "metadata": {
        "id": "IKvRgt5OHmP6"
      }
    },
    {
      "cell_type": "code",
      "source": [
        "num = 3.4\n",
        "print(num)"
      ],
      "metadata": {
        "colab": {
          "base_uri": "https://localhost:8080/"
        },
        "id": "1nn3La8BHaqw",
        "outputId": "5fd3aa05-21a9-407d-a7bb-efcf71318d3c"
      },
      "execution_count": null,
      "outputs": [
        {
          "output_type": "stream",
          "name": "stdout",
          "text": [
            "3.4\n"
          ]
        }
      ]
    },
    {
      "cell_type": "markdown",
      "source": [
        "#####Boolean"
      ],
      "metadata": {
        "id": "U588z468Nl8s"
      }
    },
    {
      "cell_type": "code",
      "source": [
        "g = True\n",
        "print(g)"
      ],
      "metadata": {
        "colab": {
          "base_uri": "https://localhost:8080/"
        },
        "id": "hImF6QlaHkb2",
        "outputId": "e24337a3-7070-4c7c-d187-3f3bd4b2ff95"
      },
      "execution_count": null,
      "outputs": [
        {
          "output_type": "stream",
          "name": "stdout",
          "text": [
            "True\n"
          ]
        }
      ]
    },
    {
      "cell_type": "markdown",
      "source": [
        "##Variable Type?\n",
        "We can check type of variables in Python by using built in function 'type'."
      ],
      "metadata": {
        "id": "fP62KZWmNimr"
      }
    },
    {
      "cell_type": "code",
      "source": [
        "print(type(3))\n",
        "print(type(1.5))\n",
        "print(type(\"Hello!\"))\n",
        "print(type(True))"
      ],
      "metadata": {
        "colab": {
          "base_uri": "https://localhost:8080/"
        },
        "id": "ZzdRlMWyOTmy",
        "outputId": "694df195-b3dc-448d-914a-272e13501048"
      },
      "execution_count": null,
      "outputs": [
        {
          "output_type": "stream",
          "name": "stdout",
          "text": [
            "<class 'int'>\n",
            "<class 'float'>\n",
            "<class 'str'>\n",
            "<class 'bool'>\n"
          ]
        }
      ]
    },
    {
      "cell_type": "markdown",
      "source": [
        "##Swapping two variables\n",
        "In Python we can swap two variables in just one line of code"
      ],
      "metadata": {
        "id": "T6yt1LMhPE00"
      }
    },
    {
      "cell_type": "code",
      "source": [
        "a = 10\n",
        "b = 20"
      ],
      "metadata": {
        "id": "26gfRdC1OdFM"
      },
      "execution_count": null,
      "outputs": []
    },
    {
      "cell_type": "code",
      "source": [
        "print(a)\n",
        "print(b)"
      ],
      "metadata": {
        "colab": {
          "base_uri": "https://localhost:8080/"
        },
        "id": "wYsSJx33PeBL",
        "outputId": "a2be508d-c87b-4937-d786-d269a822c5f0"
      },
      "execution_count": null,
      "outputs": [
        {
          "output_type": "stream",
          "name": "stdout",
          "text": [
            "10\n",
            "20\n"
          ]
        }
      ]
    },
    {
      "cell_type": "code",
      "source": [
        "#Swapping two variables\n",
        "\n",
        "a, b = b, a"
      ],
      "metadata": {
        "id": "TPqcIZAAPSdY"
      },
      "execution_count": null,
      "outputs": []
    },
    {
      "cell_type": "code",
      "source": [
        "print(a)\n",
        "print(b)"
      ],
      "metadata": {
        "colab": {
          "base_uri": "https://localhost:8080/"
        },
        "id": "lAi_xkMpPVki",
        "outputId": "33c3f7c9-355f-424c-fbe3-130a58ea8b28"
      },
      "execution_count": null,
      "outputs": [
        {
          "output_type": "stream",
          "name": "stdout",
          "text": [
            "20\n",
            "10\n"
          ]
        }
      ]
    },
    {
      "cell_type": "code",
      "source": [],
      "metadata": {
        "id": "lgJZspnQPYF5"
      },
      "execution_count": null,
      "outputs": []
    }
  ]
}
