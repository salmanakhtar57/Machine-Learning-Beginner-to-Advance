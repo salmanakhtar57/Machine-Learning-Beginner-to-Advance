{
  "nbformat": 4,
  "nbformat_minor": 0,
  "metadata": {
    "colab": {
      "provenance": [],
      "authorship_tag": "ABX9TyMppV9iDcJ37cxzCTXKLKKA"
    },
    "kernelspec": {
      "name": "python3",
      "display_name": "Python 3"
    },
    "language_info": {
      "name": "python"
    }
  },
  "cells": [
    {
      "cell_type": "markdown",
      "source": [
        "#Object Oriented Programming"
      ],
      "metadata": {
        "id": "58wAmDr9YHHW"
      }
    },
    {
      "cell_type": "markdown",
      "source": [
        "There are two approaches of programming\n",
        "1. Procedural Programming\n",
        "2. Object Oriented Programming"
      ],
      "metadata": {
        "id": "FSmeueiuSoF-"
      }
    },
    {
      "cell_type": "markdown",
      "source": [
        "- Procedural programming consist of normal programs, logics and functions that you can call.\n",
        "- Object oriented programming on the other hand, map our variables with real wold concepts and entity."
      ],
      "metadata": {
        "id": "gINKuYo1SyYf"
      }
    },
    {
      "cell_type": "markdown",
      "source": [
        "In OOP, we create classes.\n",
        "- Class is a blueprint for creating objects.\n",
        "- Objects is the instance of the class used to acces the properties of the class."
      ],
      "metadata": {
        "id": "1waRN0fxUW6a"
      }
    },
    {
      "cell_type": "markdown",
      "source": [
        "###Creating a class and objects\n",
        "Class is a blueprint as it contains everything from let say person's name, age, gender and many more.\n",
        "\n",
        "- Self - Self parameter is an reference to the current instance of the class and is used to access variables that belong to the class"
      ],
      "metadata": {
        "id": "V5Q4bOIoYQar"
      }
    },
    {
      "cell_type": "code",
      "execution_count": 9,
      "metadata": {
        "colab": {
          "base_uri": "https://localhost:8080/"
        },
        "id": "Abc9hFYFSA9o",
        "outputId": "0ffd0649-e675-417f-b862-fc8644bdca1e"
      },
      "outputs": [
        {
          "output_type": "stream",
          "name": "stdout",
          "text": [
            "Salman is 15 years old.\n"
          ]
        }
      ],
      "source": [
        "class Person:\n",
        "  name = \"Salman\"\n",
        "  age = 15\n",
        "  gender = \"male\"\n",
        "\n",
        "  def info(self):\n",
        "    print(f\"{self.name} is {self.age} years old.\")\n",
        "\n",
        "a = Person()\n",
        "a.info()"
      ]
    },
    {
      "cell_type": "markdown",
      "source": [
        "####Second Example\n",
        "\n",
        "- this class don't define any variable in the class Person but created on calling at the end of the class. It changed the variable name and age at the end.\n",
        "- we don't have to specify name, age etc again and again as it is only written once and call it as many times as needed.\n",
        "- Here c is printing the default variables names because it is not defined when calling."
      ],
      "metadata": {
        "id": "kyOSauWbbo0X"
      }
    },
    {
      "cell_type": "code",
      "source": [
        "class Person:\n",
        "  name = \"Salman\"\n",
        "  age = 15\n",
        "\n",
        "  def info(self):\n",
        "    print(f\"{self.name} is {self.age} years old.\")\n",
        "\n",
        "a = Person()\n",
        "b = Person()\n",
        "c = Person()\n",
        "\n",
        "a.name = \"David\"\n",
        "a.age = 42\n",
        "\n",
        "b.name = \"Mike\"\n",
        "b.age = \"33\"\n",
        "\n",
        "a.info()\n",
        "b.info()\n",
        "c.info()"
      ],
      "metadata": {
        "colab": {
          "base_uri": "https://localhost:8080/"
        },
        "id": "h6_XV82UZsxY",
        "outputId": "a147f128-c239-4752-d5d5-a0da45a586b0"
      },
      "execution_count": 23,
      "outputs": [
        {
          "output_type": "stream",
          "name": "stdout",
          "text": [
            "David is 42 years old.\n",
            "Mike is 33 years old.\n",
            "Salman is 15 years old.\n"
          ]
        }
      ]
    },
    {
      "cell_type": "markdown",
      "source": [
        "###Example 3\n",
        "1. First create the class car\n",
        "2. Then create instance of the class car\n",
        "3. Then accessing objects attributes\n",
        "4. Finnaly calling objects methods."
      ],
      "metadata": {
        "id": "fKJCXxLndm-Z"
      }
    },
    {
      "cell_type": "code",
      "source": [
        "#creating class Car\n",
        "class Car:\n",
        "    def __init__(self, brand, model, year):\n",
        "        self.brand = brand\n",
        "        self.model = model\n",
        "        self.year = year\n",
        "        self.is_running = False\n",
        "\n",
        "    def start_engine(self):\n",
        "        self.is_running = True\n",
        "        print(f\"The {self.brand} {self.model}'s engine is running.\")\n",
        "\n",
        "    def stop_engine(self):\n",
        "        self.is_running = False\n",
        "        print(f\"The {self.brand} {self.model}'s engine is stopped.\")\n",
        "\n",
        "\n",
        "# Creating objects (instances) of the Car class\n",
        "car1 = Car(\"Toyota\", \"Corolla\", 2022)\n",
        "car2 = Car(\"Honda\", \"Civic\", 2021)\n",
        "\n",
        "# Accessing object attributes\n",
        "print(car1.brand, car1.model, car1.year)\n",
        "print(car2.brand, car2.model, car2.year)\n",
        "\n",
        "# Calling object methods\n",
        "car1.start_engine()\n",
        "car2.stop_engine()\n"
      ],
      "metadata": {
        "colab": {
          "base_uri": "https://localhost:8080/"
        },
        "id": "k4zq3l9Ub3qX",
        "outputId": "198ef31c-f98b-4647-c22b-fbb6191a067b"
      },
      "execution_count": 27,
      "outputs": [
        {
          "output_type": "stream",
          "name": "stdout",
          "text": [
            "Toyota Corolla 2022\n",
            "Honda Civic 2021\n",
            "The Toyota Corolla's engine is running.\n",
            "The Honda Civic's engine is stopped.\n"
          ]
        }
      ]
    }
  ]
}