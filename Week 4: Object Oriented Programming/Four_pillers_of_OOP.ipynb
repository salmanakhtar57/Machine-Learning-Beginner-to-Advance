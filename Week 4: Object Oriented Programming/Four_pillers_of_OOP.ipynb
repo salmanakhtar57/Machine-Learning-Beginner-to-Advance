{
  "nbformat": 4,
  "nbformat_minor": 0,
  "metadata": {
    "colab": {
      "provenance": [],
      "authorship_tag": "ABX9TyMGOOmhJKYn+LAIFfI6WD27"
    },
    "kernelspec": {
      "name": "python3",
      "display_name": "Python 3"
    },
    "language_info": {
      "name": "python"
    }
  },
  "cells": [
    {
      "cell_type": "markdown",
      "source": [
        "OOP has four pillers:\n",
        "1. Inheritance\n",
        "2. Encapsulation\n",
        "3. Polymorphism\n",
        "4. Abstraction"
      ],
      "metadata": {
        "id": "kx4xP5_-nIoz"
      }
    },
    {
      "cell_type": "markdown",
      "source": [
        "####1. Encapsulation:\n",
        "Bundling of data and methods within an object to control access and ensure data integrity.\n",
        "####2. Inheritance:\n",
        "Ability for a class to inherit attributes and behaviors from a parent class, promoting code reuse and hierarchy.\n",
        "###3. Polymorphism:\n",
        "Capability of objects to take on multiple forms and exhibit different behaviors based on the context.\n",
        "####4. Abstraction:\n",
        "Process of creating simplified models of complex systems, focusing on essential features while hiding unnecessary details."
      ],
      "metadata": {
        "id": "Uatn7_tFqVVr"
      }
    },
    {
      "cell_type": "markdown",
      "source": [
        "A small example of how inheritance work"
      ],
      "metadata": {
        "id": "KLc7zstknCXb"
      }
    },
    {
      "cell_type": "code",
      "execution_count": 10,
      "metadata": {
        "colab": {
          "base_uri": "https://localhost:8080/"
        },
        "id": "Dt0xz-tqipP0",
        "outputId": "339a0d95-bd11-497d-b794-ed2734194ac1"
      },
      "outputs": [
        {
          "output_type": "stream",
          "name": "stdout",
          "text": [
            "The name of employee with id: 400 is Ali\n",
            "The name of employee with id: 600 is Bilal\n",
            "This is Python programming.\n"
          ]
        }
      ],
      "source": [
        "class Employee:\n",
        "  def __init__(self, name, id):\n",
        "    self.name = name\n",
        "    self.id = id\n",
        "\n",
        "  def show_details(self):\n",
        "    print(f\"The name of employee with id: {self.id} is {self.name}\")\n",
        "\n",
        "#inheritance\n",
        "class Programmer(Employee):\n",
        "  def show_language(self):\n",
        "    print(\"This is Python programming.\")\n",
        "\n",
        "a = Employee(\"Ali\", 400)\n",
        "a.show_details()\n",
        "\n",
        "b = Programmer(\"Bilal\", 600)\n",
        "b.show_details()\n",
        "b.show_language()"
      ]
    },
    {
      "cell_type": "markdown",
      "source": [
        "#Example code\n",
        "A full complete example of using classes and objects along with those four pillers"
      ],
      "metadata": {
        "id": "u8Wkp_eZnZbS"
      }
    },
    {
      "cell_type": "code",
      "source": [
        "# Encapsulation\n",
        "class Employee:\n",
        "    def __init__(self, name, employee_id):\n",
        "        self.name = name\n",
        "        self.employee_id = employee_id\n",
        "\n",
        "    def show_details(self):\n",
        "        print(f\"The name of the employee with ID {self.employee_id} is {self.name}\")\n",
        "\n",
        "\n",
        "# Inheritance\n",
        "class Programmer(Employee):\n",
        "    def show_language(self):\n",
        "        print(\"This is Python programming.\")\n",
        "\n",
        "\n",
        "# Polymorphism\n",
        "def display_employee_details(employee):\n",
        "    employee.show_details()\n",
        "    if isinstance(employee, Programmer):\n",
        "        employee.show_language()\n",
        "\n",
        "\n",
        "# Abstraction\n",
        "from abc import ABC, abstractmethod\n",
        "\n",
        "\n",
        "class Manager(ABC, Employee):\n",
        "    def show_details(self):\n",
        "        print(f\"The name of the manager with ID {self.employee_id} is {self.name}.\")\n",
        "\n",
        "\n",
        "# Using the classes\n",
        "a = Employee(\"Ali\", 400)\n",
        "a.show_details()\n",
        "\n",
        "b = Programmer(\"Bilal\", 600)\n",
        "b.show_details()\n",
        "b.show_language()\n",
        "\n",
        "c = Manager(\"John\", 800)\n",
        "c.show_details()\n",
        "\n",
        "display_employee_details(a)\n",
        "display_employee_details(b)\n",
        "display_employee_details(c)"
      ],
      "metadata": {
        "colab": {
          "base_uri": "https://localhost:8080/"
        },
        "id": "8yC3negVjKbQ",
        "outputId": "5fd40572-eb4d-4024-b1e4-0e6c8d12f89e"
      },
      "execution_count": 11,
      "outputs": [
        {
          "output_type": "stream",
          "name": "stdout",
          "text": [
            "The name of the employee with ID 400 is Ali\n",
            "The name of the employee with ID 600 is Bilal\n",
            "This is Python programming.\n",
            "The name of the manager with ID 800 is John.\n",
            "The name of the employee with ID 400 is Ali\n",
            "The name of the employee with ID 600 is Bilal\n",
            "This is Python programming.\n",
            "The name of the manager with ID 800 is John.\n"
          ]
        }
      ]
    }
  ]
}